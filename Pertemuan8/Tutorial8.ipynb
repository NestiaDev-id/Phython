{
 "cells": [
  {
   "cell_type": "markdown",
   "metadata": {},
   "source": [
    "# Tutorial 8: Menggambar dengan matplotlib dan numpy"
   ]
  },
  {
   "cell_type": "markdown",
   "metadata": {},
   "source": [
    "Dalam tutorial ini akan dibahas bagaimana menggambar grafik fungsi dengan menggunakan modul matplotlib dan numpy."
   ]
  },
  {
   "cell_type": "markdown",
   "metadata": {},
   "source": [
    "1. Menggambar sumbu-sumbu koordinat"
   ]
  },
  {
   "cell_type": "code",
   "execution_count": null,
   "metadata": {},
   "outputs": [],
   "source": [
    "from matplotlib import pyplot\n",
    "pyplot.axis()\n",
    "pyplot.show()"
   ]
  },
  {
   "cell_type": "code",
   "execution_count": null,
   "metadata": {},
   "outputs": [],
   "source": [
    "from matplotlib.pyplot import axis, show\n",
    "axis()\n",
    "show()"
   ]
  },
  {
   "cell_type": "code",
   "execution_count": null,
   "metadata": {},
   "outputs": [],
   "source": [
    "import matplotlib.pyplot as plt\n",
    "plt.axis()\n",
    "plt.show()"
   ]
  },
  {
   "cell_type": "markdown",
   "metadata": {},
   "source": [
    "2. Menggambar grafik fungsi "
   ]
  },
  {
   "cell_type": "code",
   "execution_count": null,
   "metadata": {},
   "outputs": [],
   "source": [
    "from matplotlib.pyplot import axis,show,plot,xlabel,ylabel,title,grid\n",
    "x = [0, 1, 2, 3, 4, 5]\n",
    "y = [0, 1, 4, 9, 16, 25]\n",
    "plot(x,y)\n",
    "axis([0,5,0,25])\n",
    "grid()\n",
    "xlabel('x')\n",
    "ylabel('y')\n",
    "title('fungsi kuadrat')\n",
    "show()"
   ]
  },
  {
   "cell_type": "code",
   "execution_count": null,
   "metadata": {},
   "outputs": [],
   "source": [
    "from matplotlib.pyplot import plot,axis,xlabel,ylabel,title,legend,grid,show\n",
    "x = [0, 1, 2, 3, 4, 5]\n",
    "y = [0, 1, 4, 9, 16, 25]\n",
    "plot(x,y,'ro-')\n",
    "plot(x,x)\n",
    "axis([min(x),max(x),min(y),max(y)])\n",
    "grid()\n",
    "xlabel('x')\n",
    "ylabel('y')\n",
    "title('plot 2 grafik sekaligus')\n",
    "legend(['kuadrat','linier'],loc=\"best\")\n",
    "show()"
   ]
  },
  {
   "cell_type": "markdown",
   "metadata": {},
   "source": [
    "3. Menentukan daerah asal/domain dengan perintah range: "
   ]
  },
  {
   "cell_type": "code",
   "execution_count": null,
   "metadata": {},
   "outputs": [],
   "source": [
    "from matplotlib.pyplot import plot,axis,show\n",
    "x = range(0,21)\n",
    "plot(x,x)\n",
    "axis([0,20,0,20])\n",
    "show()"
   ]
  },
  {
   "cell_type": "code",
   "execution_count": null,
   "metadata": {},
   "outputs": [],
   "source": [
    "from matplotlib.pyplot import plot,axis,show\n",
    "x = range(0,21)\n",
    "y = []\n",
    "for i in x:\n",
    "    y.append(i ** 2)\n",
    "plot(x,y)\n",
    "axis([min(x),max(x),min(y),max(y)])\n",
    "show()"
   ]
  },
  {
   "cell_type": "markdown",
   "metadata": {},
   "source": [
    "4. Menentukan daerah asal/domain dengan numpy"
   ]
  },
  {
   "cell_type": "code",
   "execution_count": null,
   "metadata": {},
   "outputs": [],
   "source": [
    "from numpy import arange\n",
    "from matplotlib.pyplot import plot, show\n",
    "\n",
    "x = arange(0,1,0.01)\n",
    "print(x)\n",
    "print(len(x))\n",
    "y = x ** 2\n",
    "print(y)\n",
    "plot(x,y)\n",
    "show()"
   ]
  },
  {
   "cell_type": "code",
   "execution_count": null,
   "metadata": {},
   "outputs": [],
   "source": [
    "from numpy import linspace\n",
    "from matplotlib.pyplot import plot,show\n",
    "\n",
    "x = linspace(-1, 1, 101)\n",
    "print(x)\n",
    "print(len(x))\n",
    "y = x ** 2\n",
    "plot(x,y)\n",
    "show()"
   ]
  },
  {
   "cell_type": "code",
   "execution_count": null,
   "metadata": {},
   "outputs": [],
   "source": [
    "import matplotlib.pyplot as plt\n",
    "import numpy as np\n",
    "import math \n",
    "\n",
    "x = np.arange(0.5*math.pi, 2*math.pi,0.01)\n",
    "y = np.sin(x)\n",
    "plt.plot(x,y)\n",
    "plt.show()\n"
   ]
  },
  {
   "cell_type": "markdown",
   "metadata": {},
   "source": [
    "5. Menggambar dengan perintah subplot"
   ]
  },
  {
   "cell_type": "code",
   "execution_count": null,
   "metadata": {},
   "outputs": [],
   "source": [
    "import matplotlib.pyplot as plt\n",
    "import numpy as np\n",
    "\n",
    "plt.subplot(2,1,1)\n",
    "x = np.linspace(0,2*np.pi,101)\n",
    "y = np.cos(x)\n",
    "plt.plot(x,y)\n",
    "plt.axis([0,2*np.pi,-1,1])\n",
    "plt.xlabel('x')\n",
    "plt.ylabel('y')\n",
    "plt.title('cos(x)')\n",
    "plt.grid()\n",
    "\n",
    "plt.subplot(2,1,2)\n",
    "z = - np.sin(x)\n",
    "plt.plot(x,z)\n",
    "plt.axis([0,2*np.pi,-1,1])\n",
    "plt.xlabel('x')\n",
    "plt.ylabel('y')\n",
    "plt.title('turunan cos(x)')\n",
    "plt.grid()\n",
    "\n",
    "plt.tight_layout()\n",
    "plt.show()"
   ]
  },
  {
   "cell_type": "code",
   "execution_count": null,
   "metadata": {},
   "outputs": [],
   "source": []
  }
 ],
 "metadata": {
  "kernelspec": {
   "display_name": "Python 3 (ipykernel)",
   "language": "python",
   "name": "python3"
  },
  "language_info": {
   "codemirror_mode": {
    "name": "ipython",
    "version": 3
   },
   "file_extension": ".py",
   "mimetype": "text/x-python",
   "name": "python",
   "nbconvert_exporter": "python",
   "pygments_lexer": "ipython3",
   "version": "3.9.16"
  }
 },
 "nbformat": 4,
 "nbformat_minor": 4
}

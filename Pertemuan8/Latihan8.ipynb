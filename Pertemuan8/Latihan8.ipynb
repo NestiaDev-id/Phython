{
 "cells": [
  {
   "cell_type": "markdown",
   "metadata": {},
   "source": [
    "# Latihan 8: Menggambar grafik dengan matplotlib dan numpy"
   ]
  },
  {
   "cell_type": "markdown",
   "metadata": {},
   "source": [
    "1. Gambarkan dalam 1 jendela fungsi sin(x) dan cos(x) untuk x pada [0,0.5 pi], kemudian tentukan titik potong kedua grafik dari gambar tersebut! "
   ]
  },
  {
   "cell_type": "code",
   "execution_count": null,
   "metadata": {},
   "outputs": [],
   "source": []
  },
  {
   "cell_type": "markdown",
   "metadata": {},
   "source": [
    "2. Dengan menggunakan perintah subplot gambarkan 4 buah grafik dalam 1 jendela yaitu fungsi sin(x), cos(x), sin(2x) dan cos(2x) untuk x di [0, 2pi]!"
   ]
  },
  {
   "cell_type": "code",
   "execution_count": null,
   "metadata": {},
   "outputs": [],
   "source": []
  },
  {
   "cell_type": "markdown",
   "metadata": {},
   "source": [
    "3. Segitiga Sierpinski dapat digambar dengan memplot titik-titik secara berulang/iteratif menurut salah satu aturan berikut yang ditentukan secara random dengan probabilitas yang sama:\n",
    "    1. aturan 1: x(n+1) = 0.5 * x(n),        y(n+1) = 0.5 * y(n)\n",
    "    2. aturan 2: x(n+1) = 0.5 * x(n) + 0.25, y(n+1) = 0.5 * y(n) + sqrt(3) / 4\n",
    "    3. aturan 3: x(n+1) = 0.5 * x(n) + 0.5,  y(n+1) = 0.5 * y(n)\n",
    "    \n",
    "Tuliskan program untuk menentukan list x dan y dan plot satu titik demi satu titik dengan menggunakan perintah plot(x(n),y(n),'^')! Mulailah dengan titik x(0) = y(0) = 0, kemudian secara random ambilah bilangan 1, 2 atau 3 untuk menentukan titik berikutnya. Demikian seterusnya dan lakukan selama 10 kali! Ulangi lagi dengan melakukan hal yang sama selama 100, 1000, 10000! "
   ]
  },
  {
   "cell_type": "code",
   "execution_count": null,
   "metadata": {},
   "outputs": [],
   "source": []
  },
  {
   "cell_type": "markdown",
   "metadata": {},
   "source": [
    "4. Buatlah gambar berbentuk pretzel yang mempunyai persamaan parametrik dalam t sebagai berikut:\n",
    "    x(t) = (3.3 - 0.4 t^2) sin(t), y(t) = (2.5 - 0.3 t^2) cos(t)\n",
    "   dengan t di [-4,3]!"
   ]
  },
  {
   "cell_type": "code",
   "execution_count": null,
   "metadata": {},
   "outputs": [],
   "source": []
  },
  {
   "cell_type": "markdown",
   "metadata": {},
   "source": [
    "5. Gambarkan rute dari seorang pejalan kaki yang berjalan secara random ke empat arah mata angin (utara, timur, selatan, barat) dari posisi awal x(0) = y(0) = 0 setelah N langkah. Untuk tiap 1 langkah pejalan kaki menggunakan bilangan random dari {1,2,3,4}. Apabila muncul angka\n",
    "    * 1 maka pejalan kaki melangkah 1 langkah ke utara (koordinat y naik 1, x tetap)\n",
    "    * 2 maka pejalan kaki melangkah 1 langkah ke timur (koordinat x naik 1, y tetap)\n",
    "    * 3 maka pejalan kaki melangkah 1 langkah ke selatan (koordinat y turun 1, x tetap)\n",
    "    * 4 maka pejalan kaki melangkah 1 langkah ke barat (koordinat x turun 1, y tetap)\n",
    "    \n",
    "  Plotlah satu titik demi satu titik posisi pejalan kaki untuk 1000 langkah yang dibuatnya!"
   ]
  },
  {
   "cell_type": "code",
   "execution_count": null,
   "metadata": {},
   "outputs": [],
   "source": []
  }
 ],
 "metadata": {
  "kernelspec": {
   "display_name": "Python 3 (ipykernel)",
   "language": "python",
   "name": "python3"
  },
  "language_info": {
   "codemirror_mode": {
    "name": "ipython",
    "version": 3
   },
   "file_extension": ".py",
   "mimetype": "text/x-python",
   "name": "python",
   "nbconvert_exporter": "python",
   "pygments_lexer": "ipython3",
   "version": "3.9.16"
  }
 },
 "nbformat": 4,
 "nbformat_minor": 4
}

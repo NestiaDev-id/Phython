{
 "cells": [
  {
   "cell_type": "markdown",
   "metadata": {},
   "source": [
    "# Latihan 2"
   ]
  },
  {
   "cell_type": "markdown",
   "metadata": {},
   "source": [
    "1. Tanpa mengetikkan kutipan program berikut ke Python, tentukan nilai kebenaran dari pernyataan berikut:\n",
    "        a. not(5 > 4) \n",
    "        b. (5 > 4) and (3 == 5)\n",
    "        c. (5 > 4) or (3 == 5)\n",
    "        d. not(5 > 4) or (3 == 5)\n",
    "        e. (True and True) and (True == False)\n",
    "        f. not False or not True\n",
    "    Kemudian cek jawabanmu dengan luaran dari Python!\n",
    "    "
   ]
  },
  {
   "cell_type": "code",
   "execution_count": 7,
   "metadata": {},
   "outputs": [
    {
     "name": "stdout",
     "output_type": "stream",
     "text": [
      "a) False\n",
      "b) False\n",
      "c) True\n",
      "d) False\n",
      "e) False\n",
      "f) True\n"
     ]
    }
   ],
   "source": [
    "print(\"a) \"+str(not(5>4)))\n",
    "print(\"b) \"+str((5 > 4) and (3 == 5)))\n",
    "print(\"c) \"+str((5 > 4) or (3 == 5)))\n",
    "print(\"d) \"+str(not(5 > 4) or (3 == 5)))\n",
    "print(\"e) \"+str((True and True) and (True == False)))\n",
    "print(\"f) \"+str(not False or not True))"
   ]
  },
  {
   "cell_type": "markdown",
   "metadata": {},
   "source": [
    "2. Buatlah program untuk memasukkan sebuah bilangan, kemudian tampilkan pesan apakah bilangan tersebut sama dengan 10, lebih dari 10 atau lebih kecil dari 10!"
   ]
  },
  {
   "cell_type": "code",
   "execution_count": 17,
   "metadata": {},
   "outputs": [
    {
     "name": "stdout",
     "output_type": "stream",
     "text": [
      "Bilangan 2 lebih kecil dari 3\n"
     ]
    }
   ],
   "source": [
    "angka1 = int(input(\"Masukkan angka ke-1 : \"))\n",
    "angka2 = int(input(\"Masukkan angka ke-2 : \"))\n",
    "if angka1 == angka2:\n",
    "    print(\"Bilangan\",angka1,\"dan\",angka2,\"tersebut sama\")\n",
    "elif angka1 >= angka2:\n",
    "    print(\"Bilangan\",angka1,\"lebih besar dari\",angka2)\n",
    "elif angka1 <= angka2:\n",
    "    print(\"Bilangan\", angka1,\"lebih kecil dari\",angka2)"
   ]
  },
  {
   "cell_type": "markdown",
   "metadata": {},
   "source": [
    "3. Buatlah program untuk menentukan apakah suatu bilangan bulat positif yang dimasukkan merupakan bilangan genap atau ganjil!"
   ]
  },
  {
   "cell_type": "code",
   "execution_count": 23,
   "metadata": {},
   "outputs": [
    {
     "name": "stdout",
     "output_type": "stream",
     "text": [
      "Bilangan tersebut merupakan bilangan Ganjil\n"
     ]
    }
   ],
   "source": [
    "bil1 = int(input(\"Masukkan bilangan : \"))\n",
    "operasi = (bil1 % 2)\n",
    "\n",
    "if operasi == 0:\n",
    "    jawab = \"Genap\"\n",
    "elif operasi > 0:\n",
    "    jawab = \"Ganjil\"\n",
    "print(\"Bilangan tersebut merupakan bilangan \"+jawab)"
   ]
  },
  {
   "cell_type": "markdown",
   "metadata": {},
   "source": [
    "4. Buatlah program untuk meminta pengguna memasukkan warna favoritnya, kemudian tampilkan pesan:\n",
    "    * saya juga suka merah (jika warna favorit pengguna adalah merah).\n",
    "    * saya tidak suka warna [warna favorit pengguna], tetapi lebih suka warna merah."
   ]
  },
  {
   "cell_type": "code",
   "execution_count": 25,
   "metadata": {},
   "outputs": [
    {
     "name": "stdout",
     "output_type": "stream",
     "text": [
      "Saya tidak suka warna kuning,tetapi lebbih suka warna merah\n"
     ]
    }
   ],
   "source": [
    "color = input(\"Masukkan warna favorit : \")\n",
    "if color == \"Merah\" or color == \"merah\":\n",
    "    temp = \"Saya juga suka warna merah\"\n",
    "elif color != \"Merah\" or color != \"merah\":\n",
    "    temp = \"Saya tidak suka warna \"+color+\",tetapi lebih suka warna merah\"\n",
    "print(temp)"
   ]
  },
  {
   "cell_type": "markdown",
   "metadata": {},
   "source": [
    "5. Buatlah program untuk mengklasifikasikan Body Mass Index (BMI) yaitu:\n",
    "    * BMI < 18.5 terlalu kurus\n",
    "    * 18.5 <= BMI <= 25 normal\n",
    "    * 25 < BMI <= 30 kelebihan berat badan\n",
    "    * BMI > 30 obesitas\n",
    "    \n",
    "    Terlebih dahulu mintalah pengguna memasukkan data berat badan (dalam kg) dan tinggi badan (dalam cm), kemudian hitunglah BMI = berat badan (dalam kg) / tinggi badan (dalam m) ** 2"
   ]
  },
  {
   "cell_type": "code",
   "execution_count": 1,
   "metadata": {},
   "outputs": [
    {
     "name": "stdout",
     "output_type": "stream",
     "text": [
      "44.44444444444444\n",
      "Berat badan anda  100  dan tinggi badan anda  150  maka menurut BMI anda obesitas\n"
     ]
    }
   ],
   "source": [
    "berat = int(input(\"Masukkan berat badan anda : \"))\n",
    "tinggi = int(input(\"Masukkan tinggi badan anda : \"))\n",
    "bmi = berat / (tinggi/100)**2\n",
    "print(bmi)\n",
    "if bmi < 18.5:\n",
    "    temp = \"terlalu kurus\"\n",
    "elif 18.5 <= bmi <= 25:\n",
    "    temp = \"normal\"\n",
    "elif 25 < bmi <= 30:\n",
    "    temp = \"kelebihan berat badan\"\n",
    "elif bmi > 30:\n",
    "    temp =\"obesitas\"\n",
    "\n",
    "print(\"Berat badan anda \", berat, \" dan tinggi badan anda \",tinggi,\" maka menurut BMI anda \"+temp)"
   ]
  },
  {
   "cell_type": "markdown",
   "metadata": {},
   "source": [
    "6. Buatlah program untuk meminta masukkan koefisien a, b, c dari suatu persamaan kuadrat ax^2 + bx + c = 0, kemudian klasifikasikan akar persamaan kuadrat itu berdasarkan nila Diskriminannya (b^2 - 4 ac) serta tuliskan solusi yang diperoleh untuk tiap kasus!"
   ]
  },
  {
   "cell_type": "code",
   "execution_count": 33,
   "metadata": {},
   "outputs": [
    {
     "name": "stdout",
     "output_type": "stream",
     "text": [
      "Hasil hitung persamaan kuadrat -23 \n",
      "maka berartiada dua penyelesaian yaitu real\n"
     ]
    }
   ],
   "source": [
    "a = int(input(\"Masukkan a : \"))\n",
    "b = int(input(\"Masukkan b : \"))\n",
    "c = int(input(\"Masukkan c : \"))\n",
    "\n",
    "hitung = b**2 - 4*(a*c)\n",
    "\n",
    "if hitung > 0:\n",
    "    temp = \"terdapat dua penyelesaian\"\n",
    "elif hitung == 0:\n",
    "    temp = \"terdapat dua penyelesaian\"\n",
    "else:\n",
    "    temp = \"ada dua penyelesaian yaitu real\"\n",
    "print(\"Hasil hitung persamaan kuadrat\",hitung,\"\\nmaka berarti \"+temp)"
   ]
  },
  {
   "cell_type": "code",
   "execution_count": null,
   "outputs": [],
   "source": [],
   "metadata": {
    "collapsed": false
   }
  }
 ],
 "metadata": {
  "kernelspec": {
   "display_name": "Python 3",
   "language": "python",
   "name": "python3"
  },
  "language_info": {
   "codemirror_mode": {
    "name": "ipython",
    "version": 3
   },
   "file_extension": ".py",
   "mimetype": "text/x-python",
   "name": "python",
   "nbconvert_exporter": "python",
   "pygments_lexer": "ipython3",
   "version": "3.8.5"
  }
 },
 "nbformat": 4,
 "nbformat_minor": 4
}

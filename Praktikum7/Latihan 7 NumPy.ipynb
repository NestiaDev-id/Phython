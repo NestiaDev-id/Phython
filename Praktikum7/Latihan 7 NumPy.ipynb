{
 "cells": [
  {
   "cell_type": "markdown",
   "id": "76cf12b2",
   "metadata": {},
   "source": [
    "## Latihan 7: NumPy"
   ]
  },
  {
   "cell_type": "markdown",
   "id": "e447c473",
   "metadata": {},
   "source": [
    "1. Buatlah vektor nol NumPy dengan panjang 10 tetapi elemen dengan indeks kelimanya bernilai 1."
   ]
  },
  {
   "cell_type": "code",
   "execution_count": null,
   "id": "e94a30eb",
   "metadata": {},
   "outputs": [],
   "source": []
  },
  {
   "cell_type": "markdown",
   "id": "f1d2517e",
   "metadata": {},
   "source": [
    "2. Tentukan indeks elemen-elemen tidak nol dari vektor NumPy [1,2,0,0,4,0] "
   ]
  },
  {
   "cell_type": "code",
   "execution_count": null,
   "id": "66256e09",
   "metadata": {},
   "outputs": [],
   "source": []
  },
  {
   "cell_type": "markdown",
   "id": "8af6d7cf",
   "metadata": {},
   "source": [
    "3. Buatlah matriks berukuran 10 x 10 dengan fungsi randint, dan tentukan elemen  minimum dan maksimumnya"
   ]
  },
  {
   "cell_type": "code",
   "execution_count": null,
   "id": "c34ec45b",
   "metadata": {},
   "outputs": [],
   "source": []
  },
  {
   "cell_type": "markdown",
   "id": "d65dfb5f",
   "metadata": {},
   "source": [
    "4. Buatlah matriks dengan angka 1 di pinggir-pinggirnya dan angka 0 di tengah-tengahnya"
   ]
  },
  {
   "cell_type": "code",
   "execution_count": null,
   "id": "b9c5228a",
   "metadata": {},
   "outputs": [],
   "source": []
  },
  {
   "cell_type": "markdown",
   "id": "0393fe05",
   "metadata": {},
   "source": [
    "5. Buatlah matriks satu berukuran 5x5 dan ubahlah elemen-elemen di bawah diagonal utamanya dengan vektor [1,2,3,4]"
   ]
  },
  {
   "cell_type": "code",
   "execution_count": null,
   "id": "473547f4",
   "metadata": {},
   "outputs": [],
   "source": []
  }
 ],
 "metadata": {
  "kernelspec": {
   "display_name": "Python 3 (ipykernel)",
   "language": "python",
   "name": "python3"
  },
  "language_info": {
   "codemirror_mode": {
    "name": "ipython",
    "version": 3
   },
   "file_extension": ".py",
   "mimetype": "text/x-python",
   "name": "python",
   "nbconvert_exporter": "python",
   "pygments_lexer": "ipython3",
   "version": "3.9.16"
  }
 },
 "nbformat": 4,
 "nbformat_minor": 5
}

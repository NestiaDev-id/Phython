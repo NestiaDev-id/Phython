{
 "cells": [
  {
   "cell_type": "markdown",
   "metadata": {},
   "source": [
    "# Latihan 1"
   ]
  },
  {
   "cell_type": "markdown",
   "metadata": {},
   "source": [
    "1. Tuliskan program yang menampilkan nama dan alamat lengkap Anda di baris berikutnya!"
   ]
  },
  {
   "cell_type": "code",
   "execution_count": 10,
   "metadata": {},
   "outputs": [
    {
     "name": "stdout",
     "output_type": "stream",
     "text": [
      "Yohanes Christian Devano\n"
     ]
    }
   ],
   "source": [
    "print(\"Nama : Yohanes Christian Devano \\nNim : 215314071 \\n Alamat : Yogyakarta\")"
   ]
  },
  {
   "cell_type": "markdown",
   "metadata": {},
   "source": [
    "2. Tentukan luaran dari program berikut terlebih dahulu sebelum mengetikkannya dalam Python! \n",
    "   Kemudian periksalah luaran dari Python apakah sama dengan perkiraanmu! Pelajarilah apabila terjadi perbedaan!\n",
    "       x = input(\"masukkan suatu bilangan: \")\n",
    "       y = 3\n",
    "       z = \"2\"\n",
    "       print(x + y)\n",
    "       print(int(x) + y)\n",
    "       print(x * y)\n",
    "       print(int(x) * y)\n",
    "       print(x + z)\n",
    "       print(int(x + z))\n",
    "       print(int(x) + int(z))\n",
    "       print(x * z)"
   ]
  },
  {
   "cell_type": "code",
   "execution_count": 3,
   "metadata": {},
   "outputs": [
    {
     "name": "stdout",
     "output_type": "stream",
     "text": [
      "5\n",
      "5\n",
      "6\n",
      "6\n",
      "4\n",
      "4\n",
      "4\n",
      "4\n"
     ]
    }
   ],
   "source": [
    "x = int(input(\"masukkan suatu bilangan: \"))\n",
    "y = 3\n",
    "z = 2\n",
    "print(x + y)\n",
    "print(int(x) + y)\n",
    "print(x * y)\n",
    "print(int(x) * y)\n",
    "print(x + z)\n",
    "print(int(x + z))\n",
    "print(int(x) + int(z))\n",
    "print(x * z)"
   ]
  },
  {
   "cell_type": "markdown",
   "metadata": {},
   "source": [
    "3. Buatlah program dengan memasukkan panjang dan lebar ruangan kelas dan kemudian menampilkan luas ruangan!"
   ]
  },
  {
   "cell_type": "code",
   "execution_count": 12,
   "metadata": {},
   "outputs": [
    {
     "name": "stdout",
     "output_type": "stream",
     "text": [
      "Luas ruangan = 40\n"
     ]
    }
   ],
   "source": [
    "panjang = 10\n",
    "lebar = 4\n",
    "print(\"Luas ruangan = \"+str(panjang*lebar))"
   ]
  },
  {
   "cell_type": "markdown",
   "metadata": {},
   "source": [
    "4. Buatlah program yang memasukkan nama dan umur Anda tahun ini ke dalam variabel, kemudian tampilkan pesan:\n",
    "        Tahun depan [nama] akan berumur [umur di tahun depan]"
   ]
  },
  {
   "cell_type": "code",
   "execution_count": 6,
   "metadata": {},
   "outputs": [
    {
     "ename": "TypeError",
     "evalue": "can only concatenate str (not \"int\") to str",
     "output_type": "error",
     "traceback": [
      "\u001B[1;31m---------------------------------------------------------------------------\u001B[0m",
      "\u001B[1;31mTypeError\u001B[0m                                 Traceback (most recent call last)",
      "Cell \u001B[1;32mIn[6], line 3\u001B[0m\n\u001B[0;32m      1\u001B[0m nama \u001B[38;5;241m=\u001B[39m \u001B[38;5;28minput\u001B[39m(\u001B[38;5;124m\"\u001B[39m\u001B[38;5;124mMasukkan nama anda : \u001B[39m\u001B[38;5;124m\"\u001B[39m)\n\u001B[0;32m      2\u001B[0m umur \u001B[38;5;241m=\u001B[39m \u001B[38;5;28mint\u001B[39m(\u001B[38;5;28minput\u001B[39m(\u001B[38;5;124m\"\u001B[39m\u001B[38;5;124mMasukkan umur anda : \u001B[39m\u001B[38;5;124m\"\u001B[39m))\n\u001B[1;32m----> 3\u001B[0m \u001B[38;5;28mprint\u001B[39m(\u001B[38;5;124;43m\"\u001B[39;49m\u001B[38;5;124;43mTahun depan \u001B[39;49m\u001B[38;5;124;43m\"\u001B[39;49m\u001B[38;5;241;43m+\u001B[39;49m\u001B[43mnama\u001B[49m\u001B[38;5;241;43m+\u001B[39;49m\u001B[43m \u001B[49m\u001B[38;5;124;43m\"\u001B[39;49m\u001B[38;5;124;43m akan berumur \u001B[39;49m\u001B[38;5;124;43m\"\u001B[39;49m\u001B[38;5;241;43m+\u001B[39;49m\u001B[43m \u001B[49m\u001B[43mumur\u001B[49m)\n",
      "\u001B[1;31mTypeError\u001B[0m: can only concatenate str (not \"int\") to str"
     ]
    }
   ],
   "source": [
    "nama = input(\"Masukkan nama anda : \")\n",
    "umur = int(input(\"Masukkan umur anda : \"))\n",
    "print(\"Tahun depan \"+nama+ \" akan berumur \", umur)"
   ]
  },
  {
   "cell_type": "markdown",
   "metadata": {},
   "source": [
    "5. Tentukan luaran dari operasi hitung berikut:\n",
    "        a. 7 + 3 * 5\n",
    "        b. 5.5 * 6 // 2 + 8\n",
    "        c. -3 ** 2\n",
    "        d. 50 * 2 + (60 - 20) / 4"
   ]
  },
  {
   "cell_type": "code",
   "execution_count": 10,
   "outputs": [
    {
     "name": "stdout",
     "output_type": "stream",
     "text": [
      "a)  22\n",
      "b)  24.0\n",
      "c)  -9\n",
      "d)  110.0\n"
     ]
    }
   ],
   "source": [
    "print(\"a) \",(7+3*5))\n",
    "print(\"b) \",(5.5*6//2+8))\n",
    "print(\"c) \",(-3 ** 2))\n",
    "print(\"d) \",(50 * 2 + (60 - 20) / 4))"
   ],
   "metadata": {
    "collapsed": false
   }
  },
  {
   "cell_type": "markdown",
   "metadata": {},
   "source": [
    "6. Tentukan luaran dari petikan program ini:\n",
    "        bil1 = input(\"Masukkan bilangan pertama: \")\n",
    "        bil2 = input(\"Masukkan bilangan kedua: \")\n",
    "        print(\"Jumlah kedua bilangan: \", bil1 + bil2)"
   ]
  },
  {
   "cell_type": "code",
   "execution_count": 11,
   "metadata": {},
   "outputs": [
    {
     "name": "stdout",
     "output_type": "stream",
     "text": [
      "Jumlah kedua bilangan :  21\n"
     ]
    }
   ],
   "source": [
    "bil1 = input(\"Masukkan bilangan pertama : \")\n",
    "bil2 = input(\"Masukkan bilangan kedua : \")\n",
    "print(\"Jumlah kedua bilangan : \",(bil1+bil2))"
   ]
  },
  {
   "cell_type": "markdown",
   "metadata": {},
   "source": [
    "7. Perbaikilah program di atas sehingga luarannya menjadi benar!"
   ]
  },
  {
   "cell_type": "code",
   "execution_count": 13,
   "metadata": {},
   "outputs": [
    {
     "name": "stdout",
     "output_type": "stream",
     "text": [
      "Jumlah kedua bilangan :  3\n"
     ]
    }
   ],
   "source": [
    "bil1 = int(input(\"Masukkan bilangan pertama : \"))\n",
    "bil2 = int(input(\"Masukkan bilangan kedua : \"))\n",
    "print(\"Jumlah kedua bilangan : \",(bil1+bil2))"
   ]
  },
  {
   "cell_type": "markdown",
   "metadata": {},
   "source": [
    "8. Buatlah program untuk menghitung BMI(Body Mass Index) dengan meminta user memasukkan data berat badan(dalam kg) \n",
    "   dan tinggi badan(dalam cm)! \n",
    "        BMI = berat(dalam kg) / (tinggi(dalam meter) ** 2)  \n",
    "   Tampilkan pesan \n",
    "       Orang dengan berat [...] kg dan tinggi [...] cm mempunyai BMI [...]."
   ]
  },
  {
   "cell_type": "code",
   "execution_count": 21,
   "metadata": {},
   "outputs": [
    {
     "name": "stdout",
     "output_type": "stream",
     "text": [
      "Orang dengan berat  20  kg dan tinggi  1  cm mempunyai BMI  20.0\n"
     ]
    }
   ],
   "source": [
    "berat = int(input(\"Masukkan berat badan : \"))\n",
    "tinggi = int(input(\"Masukkan tinggi badan : \"))\n",
    "bmi = berat / (tinggi/100) ** 2\n",
    "print(\"Orang dengan berat \",berat, \" kg dan tinggi \", tinggi, \" cm mempunyai BMI \", bmi)"
   ]
  },
  {
   "cell_type": "markdown",
   "metadata": {},
   "source": [
    "9. Buatlah program yang menanyakan umurmu saat ini, umur berapa kamu akan pensiun dan menampilkan pesan\n",
    "        Kamu akan pensiun di tahun [...] yaitu [...] tahun dari sekarang."
   ]
  },
  {
   "cell_type": "code",
   "execution_count": 22,
   "metadata": {},
   "outputs": [
    {
     "name": "stdout",
     "output_type": "stream",
     "text": [
      "Kamu akan pensiun di tahun  2033 yaitu  10 tahun dari sekarang\n"
     ]
    }
   ],
   "source": [
    "tahun_sekarang = int(input(\"Masukkan tahun sekarang : \"))\n",
    "kapan_pensiun = int(input(\"Kapan anda pensiun : \"))\n",
    "umur_sekarang = int(input(\"Masukkan umurmu saat ini : \"))\n",
    "\n",
    "pensiun_tahun = kapan_pensiun-umur_sekarang\n",
    "tahun_pensiun = pensiun_tahun+tahun_sekarang\n",
    "print(\"Kamu akan pensiun di tahun \" ,tahun_pensiun, \"yaitu \",pensiun_tahun, \"tahun dari sekarang\")"
   ]
  },
  {
   "cell_type": "markdown",
   "metadata": {},
   "source": [
    "10. Buatlah program memasukkan bilangan pertama dan kedua, kemudian tampilkan sebagai berikut:\n",
    "        [...] (+, - , *, /) [...] = [...]"
   ]
  },
  {
   "cell_type": "code",
   "execution_count": 25,
   "metadata": {},
   "outputs": [
    {
     "name": "stdout",
     "output_type": "stream",
     "text": [
      "3\n"
     ]
    }
   ],
   "source": [
    "angka1 = int(input(\"Masukkan angka pertama : \"))\n",
    "angka2 = int(input(\"Masukkan angka kedua : \"))\n",
    "pilihan = input(\"Masukkan operasi (+, - , *, /) yang ingin anda gunakan : \")\n",
    "if pilihan == \"+\":\n",
    "     print(angka1+angka2)\n",
    "elif pilihan == \"-\":\n",
    "     print(angka1-angka2)\n",
    "elif pilihan == \"*\":\n",
    "     print(angka1*angka2)\n",
    "elif pilihan == \"/\":\n",
    "     print(angka1/angka2)"
   ]
  },
  {
   "cell_type": "code",
   "execution_count": null,
   "outputs": [],
   "source": [],
   "metadata": {
    "collapsed": false
   }
  }
 ],
 "metadata": {
  "kernelspec": {
   "display_name": "Python 3",
   "language": "python",
   "name": "python3"
  },
  "language_info": {
   "codemirror_mode": {
    "name": "ipython",
    "version": 3
   },
   "file_extension": ".py",
   "mimetype": "text/x-python",
   "name": "python",
   "nbconvert_exporter": "python",
   "pygments_lexer": "ipython3",
   "version": "3.8.5"
  }
 },
 "nbformat": 4,
 "nbformat_minor": 4
}

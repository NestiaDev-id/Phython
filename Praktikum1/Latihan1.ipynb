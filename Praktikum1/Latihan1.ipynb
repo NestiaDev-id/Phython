{
 "cells": [
  {
   "cell_type": "markdown",
   "metadata": {},
   "source": [
    "# Latihan 1"
   ]
  },
  {
   "cell_type": "markdown",
   "metadata": {},
   "source": [
    "1. Tuliskan program yang menampilkan nama dan alamat lengkap Anda di baris berikutnya!"
   ]
  },
  {
   "cell_type": "code",
   "execution_count": 10,
   "metadata": {},
   "outputs": [
    {
     "name": "stdout",
     "output_type": "stream",
     "text": [
      "Yohanes Christian Devano\n"
     ]
    }
   ],
   "source": [
    "print(\"Yohanes Christian Devano\")"
   ]
  },
  {
   "cell_type": "markdown",
   "metadata": {},
   "source": [
    "2. Tentukan luaran dari program berikut terlebih dahulu sebelum mengetikkannya dalam Python! \n",
    "   Kemudian periksalah luaran dari Python apakah sama dengan perkiraanmu! Pelajarilah apabila terjadi perbedaan!\n",
    "       x = input(\"masukkan suatu bilangan: \")\n",
    "       y = 3\n",
    "       z = \"2\"\n",
    "       print(x + y)\n",
    "       print(int(x) + y)\n",
    "       print(x * y)\n",
    "       print(int(x) * y)\n",
    "       print(x + z)\n",
    "       print(int(x + z))\n",
    "       print(int(x) + int(z))\n",
    "       print(x * z)"
   ]
  },
  {
   "cell_type": "code",
   "execution_count": 29,
   "metadata": {},
   "outputs": [
    {
     "ename": "TypeError",
     "evalue": "can only concatenate str (not \"int\") to str",
     "output_type": "error",
     "traceback": [
      "\u001B[1;31m---------------------------------------------------------------------------\u001B[0m",
      "\u001B[1;31mTypeError\u001B[0m                                 Traceback (most recent call last)",
      "Cell \u001B[1;32mIn[29], line 4\u001B[0m\n\u001B[0;32m      2\u001B[0m y \u001B[38;5;241m=\u001B[39m \u001B[38;5;241m3\u001B[39m\n\u001B[0;32m      3\u001B[0m z \u001B[38;5;241m=\u001B[39m \u001B[38;5;124m\"\u001B[39m\u001B[38;5;124m2\u001B[39m\u001B[38;5;124m\"\u001B[39m\n\u001B[1;32m----> 4\u001B[0m \u001B[38;5;28mprint\u001B[39m(\u001B[38;5;28mstr\u001B[39m(\u001B[43mx\u001B[49m\u001B[38;5;241;43m+\u001B[39;49m\u001B[43my\u001B[49m))\n\u001B[0;32m      5\u001B[0m \u001B[38;5;28mprint\u001B[39m(\u001B[38;5;28mint\u001B[39m(x)\u001B[38;5;241m+\u001B[39my)\n",
      "\u001B[1;31mTypeError\u001B[0m: can only concatenate str (not \"int\") to str"
     ]
    }
   ],
   "source": [
    "x = input(\"Masukkan suatu bilangan : \")\n",
    "y = 3\n",
    "z = \"2\"\n",
    "print(str(x+y))\n",
    "print(int(x)+y)"
   ]
  },
  {
   "cell_type": "markdown",
   "metadata": {},
   "source": [
    "3. Buatlah program dengan memasukkan panjang dan lebar ruangan kelas dan kemudian menampilkan luas ruangan!"
   ]
  },
  {
   "cell_type": "code",
   "execution_count": 12,
   "metadata": {},
   "outputs": [
    {
     "name": "stdout",
     "output_type": "stream",
     "text": [
      "Luas ruangan = 40\n"
     ]
    }
   ],
   "source": [
    "panjang = 10\n",
    "lebar = 4\n",
    "print(\"Luas ruangan = \"+str(panjang*lebar))"
   ]
  },
  {
   "cell_type": "markdown",
   "metadata": {},
   "source": [
    "4. Buatlah program yang memasukkan nama dan umur Anda tahun ini ke dalam variabel, kemudian tampilkan pesan:\n",
    "        Tahun depan [nama] akan berumur [umur di tahun depan]"
   ]
  },
  {
   "cell_type": "code",
   "execution_count": 19,
   "metadata": {},
   "outputs": [
    {
     "name": "stdout",
     "output_type": "stream",
     "text": [
      "Tahun depan Yohanes Christian Devano akan berumur 21\n"
     ]
    }
   ],
   "source": [
    "nama = \"Yohanes Christian Devano\"\n",
    "umur = 21\n",
    "print(\"Tahun depan \"+nama+ \" akan berumur \"+str(umur))"
   ]
  },
  {
   "cell_type": "markdown",
   "metadata": {},
   "source": [
    "5. Tentukan luaran dari operasi hitung berikut:\n",
    "        a. 7 + 3 * 5\n",
    "        b. 5.5 * 6 // 2 + 8\n",
    "        c. -3 ** 2\n",
    "        d. 50 * 2 + (60 - 20) / 4"
   ]
  },
  {
   "cell_type": "code",
   "execution_count": 17,
   "outputs": [
    {
     "name": "stdout",
     "output_type": "stream",
     "text": [
      "a) 22\n",
      "b) 24.0\n",
      "c) -9\n",
      "d) 110.0\n"
     ]
    }
   ],
   "source": [
    "print(\"a) \"+str(7+3*5))\n",
    "print(\"b) \"+str(5.5*6//2+8))\n",
    "print(\"c) \"+str(-3 ** 2))\n",
    "print(\"d) \"+str(50 * 2 + (60 - 20) / 4))"
   ],
   "metadata": {
    "collapsed": false
   }
  },
  {
   "cell_type": "markdown",
   "metadata": {},
   "source": [
    "6. Tentukan luaran dari petikan program ini:\n",
    "        bil1 = input(\"Masukkan bilangan pertama: \")\n",
    "        bil2 = input(\"Masukkan bilangan kedua: \")\n",
    "        print(\"Jumlah kedua bilangan: \", bil1 + bil2)"
   ]
  },
  {
   "cell_type": "code",
   "execution_count": 25,
   "metadata": {},
   "outputs": [
    {
     "name": "stdout",
     "output_type": "stream",
     "text": [
      "Jumlah kedua bilangan :  3\n"
     ]
    }
   ],
   "source": [
    "bil1 = input(\"Masukkan bilangan pertama : \")\n",
    "bil1 = int(bil1)\n",
    "bil2 = input(\"Masukkan bilangan kedua : \")\n",
    "bil2 = int(bil2)\n",
    "print(\"Jumlah kedua bilangan : \",(bil1+bil2))"
   ]
  },
  {
   "cell_type": "markdown",
   "metadata": {},
   "source": [
    "7. Perbaikilah program di atas sehingga luarannya menjadi benar!"
   ]
  },
  {
   "cell_type": "code",
   "execution_count": null,
   "metadata": {},
   "outputs": [],
   "source": []
  },
  {
   "cell_type": "markdown",
   "metadata": {},
   "source": [
    "8. Buatlah program untuk menghitung BMI(Body Mass Index) dengan meminta user memasukkan data berat badan(dalam kg) \n",
    "   dan tinggi badan(dalam cm)! \n",
    "        BMI = berat(dalam kg) / (tinggi(dalam meter) ** 2)  \n",
    "   Tampilkan pesan \n",
    "       Orang dengan berat [...] kg dan tinggi [...] cm mempunyai BMI [...]."
   ]
  },
  {
   "cell_type": "code",
   "execution_count": 34,
   "metadata": {},
   "outputs": [
    {
     "name": "stdout",
     "output_type": "stream",
     "text": [
      "Orang dengan berat  2  kg dan tinggi  1  cm mempunyai BMI  2.0\n"
     ]
    }
   ],
   "source": [
    "berat = input(\"Masukkan berat badan : \")\n",
    "tinggi = input(\"Masukkan tinggi badan : \")\n",
    "bmi = float(berat) / (float(tinggi) ** 2)\n",
    "print(\"Orang dengan berat \",berat, \" kg dan tinggi \", tinggi, \" cm mempunyai BMI \", bmi)"
   ]
  },
  {
   "cell_type": "markdown",
   "metadata": {},
   "source": [
    "9. Buatlah program yang menanyakan umurmu saat ini, umur berapa kamu akan pensiun dan menampilkan pesan\n",
    "        Kamu akan pensiun di tahun [...] yaitu [...] tahun dari sekarang."
   ]
  },
  {
   "cell_type": "code",
   "execution_count": null,
   "metadata": {},
   "outputs": [],
   "source": []
  },
  {
   "cell_type": "markdown",
   "metadata": {},
   "source": [
    "10. Buatlah program memasukkan bilangan pertama dan kedua, kemudian tampilkan sebagai berikut:\n",
    "        [...] (+, - , *, /) [...] = [...]"
   ]
  },
  {
   "cell_type": "code",
   "execution_count": null,
   "metadata": {},
   "outputs": [],
   "source": []
  }
 ],
 "metadata": {
  "kernelspec": {
   "display_name": "Python 3",
   "language": "python",
   "name": "python3"
  },
  "language_info": {
   "codemirror_mode": {
    "name": "ipython",
    "version": 3
   },
   "file_extension": ".py",
   "mimetype": "text/x-python",
   "name": "python",
   "nbconvert_exporter": "python",
   "pygments_lexer": "ipython3",
   "version": "3.8.5"
  }
 },
 "nbformat": 4,
 "nbformat_minor": 4
}

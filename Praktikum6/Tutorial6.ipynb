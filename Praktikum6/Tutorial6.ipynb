{
 "cells": [
  {
   "cell_type": "markdown",
   "metadata": {},
   "source": [
    "# Tutorial 6: List"
   ]
  },
  {
   "cell_type": "markdown",
   "metadata": {},
   "source": [
    "Dalam tutorial ini akan dibahas list/daftar sebagai salah satu media untuk menyimpan data yang berupa vektor/urutan/barisan."
   ]
  },
  {
   "cell_type": "markdown",
   "metadata": {},
   "source": [
    "1. Membuat List\n",
    "\n",
    "List dibentuk dengan menggunakan tanda kurung siku untuk menampung sejumlah data yang dipisahkan dengan koma."
   ]
  },
  {
   "cell_type": "code",
   "execution_count": 6,
   "metadata": {},
   "outputs": [
    {
     "name": "stdout",
     "output_type": "stream",
     "text": [
      "[30, 32, 31, 34, 28, 29, 35]\n"
     ]
    }
   ],
   "source": [
    "suhu_maks_harian = [30, 32, 31, 34, 28, 29, 35]\n",
    "print(suhu_maks_harian)"
   ]
  },
  {
   "cell_type": "code",
   "execution_count": 7,
   "metadata": {},
   "outputs": [
    {
     "data": {
      "text/plain": "[1, 2, 3]"
     },
     "execution_count": 7,
     "metadata": {},
     "output_type": "execute_result"
    }
   ],
   "source": [
    "a = [1, 2, 3]\n",
    "a"
   ]
  },
  {
   "cell_type": "code",
   "execution_count": 8,
   "metadata": {},
   "outputs": [
    {
     "data": {
      "text/plain": "[1, 3.14, 'Mei', True]"
     },
     "execution_count": 8,
     "metadata": {},
     "output_type": "execute_result"
    }
   ],
   "source": [
    "campur = [1, 3.14, 'Mei', True]\n",
    "campur"
   ]
  },
  {
   "cell_type": "markdown",
   "metadata": {},
   "source": [
    "2. Menampilkan elemen list/indexing"
   ]
  },
  {
   "cell_type": "code",
   "execution_count": 9,
   "metadata": {},
   "outputs": [
    {
     "data": {
      "text/plain": "[30, 32, 31, 34, 28, 29, 35]"
     },
     "execution_count": 9,
     "metadata": {},
     "output_type": "execute_result"
    }
   ],
   "source": [
    "suhu_maks_harian"
   ]
  },
  {
   "cell_type": "code",
   "execution_count": 10,
   "metadata": {},
   "outputs": [
    {
     "name": "stdout",
     "output_type": "stream",
     "text": [
      "30\n",
      "35\n",
      "7\n",
      "35\n",
      "35\n",
      "28\n"
     ]
    }
   ],
   "source": [
    "print(suhu_maks_harian[0])\n",
    "i = 6\n",
    "print(suhu_maks_harian[i])\n",
    "j = len(suhu_maks_harian)\n",
    "print(j)\n",
    "print(suhu_maks_harian[len(suhu_maks_harian) - 1])\n",
    "print(suhu_maks_harian[-1])\n",
    "print(suhu_maks_harian[-3])"
   ]
  },
  {
   "cell_type": "code",
   "execution_count": 11,
   "metadata": {},
   "outputs": [
    {
     "name": "stdout",
     "output_type": "stream",
     "text": [
      "[30, 32, 31, 34, 28, 29, 35]\n",
      "[30, 32, 31, 30, 28, 29, 35]\n"
     ]
    }
   ],
   "source": [
    "print(suhu_maks_harian)\n",
    "suhu_maks_harian[3] = 30\n",
    "print(suhu_maks_harian)"
   ]
  },
  {
   "cell_type": "markdown",
   "metadata": {},
   "source": [
    "3. Menggunakan loop dengan list"
   ]
  },
  {
   "cell_type": "code",
   "execution_count": 32,
   "metadata": {},
   "outputs": [
    {
     "name": "stdout",
     "output_type": "stream",
     "text": [
      "0 30\n",
      "1 32\n",
      "2 31\n",
      "3 30\n",
      "4 28\n",
      "5 29\n",
      "6 35\n"
     ]
    }
   ],
   "source": [
    "for i in range(7):\n",
    "    # print(i)\n",
    "    print(i,suhu_maks_harian[i])\n"
   ]
  },
  {
   "cell_type": "code",
   "execution_count": 13,
   "metadata": {},
   "outputs": [
    {
     "name": "stdout",
     "output_type": "stream",
     "text": [
      "30\n",
      "32\n",
      "31\n",
      "30\n",
      "28\n",
      "29\n",
      "35\n"
     ]
    }
   ],
   "source": [
    "for i in range(len(suhu_maks_harian)):\n",
    "    print(suhu_maks_harian[i])"
   ]
  },
  {
   "cell_type": "code",
   "execution_count": 14,
   "metadata": {},
   "outputs": [
    {
     "name": "stdout",
     "output_type": "stream",
     "text": [
      "30\n",
      "32\n",
      "31\n",
      "30\n",
      "28\n",
      "29\n",
      "35\n"
     ]
    }
   ],
   "source": [
    "for i in suhu_maks_harian:\n",
    "    print(i)"
   ]
  },
  {
   "cell_type": "code",
   "execution_count": 15,
   "metadata": {},
   "outputs": [
    {
     "name": "stdout",
     "output_type": "stream",
     "text": [
      "1\n",
      "3.14\n",
      "Mei\n",
      "True\n"
     ]
    }
   ],
   "source": [
    "for k in campur:\n",
    "    print(k)"
   ]
  },
  {
   "cell_type": "markdown",
   "metadata": {},
   "source": [
    "4. Menjumlahkan elemen-elemen dalam suatu list"
   ]
  },
  {
   "cell_type": "code",
   "execution_count": 2,
   "metadata": {},
   "outputs": [],
   "source": [
    "hari_setahun = [31, 29, 31, 30, 31, 30, 31, 31, 30, 31, 30, 31]"
   ]
  },
  {
   "cell_type": "code",
   "execution_count": 3,
   "metadata": {},
   "outputs": [
    {
     "name": "stdout",
     "output_type": "stream",
     "text": [
      "0\n",
      "1\n",
      "2\n",
      "3\n",
      "4\n",
      "5\n",
      "6\n",
      "7\n",
      "8\n",
      "9\n",
      "10\n",
      "11\n",
      "366\n"
     ]
    }
   ],
   "source": [
    "jumlah1 = 0\n",
    "for i in range(12):\n",
    "    jumlah1 = jumlah1 + hari_setahun[i]\n",
    "    \n",
    "print(jumlah1)"
   ]
  },
  {
   "cell_type": "code",
   "execution_count": 18,
   "metadata": {},
   "outputs": [
    {
     "name": "stdout",
     "output_type": "stream",
     "text": [
      "366\n"
     ]
    }
   ],
   "source": [
    "jumlah2 = 0\n",
    "for i in range(len(hari_setahun)):\n",
    "    jumlah2 = jumlah2 + hari_setahun[i]\n",
    "    \n",
    "print(jumlah2)"
   ]
  },
  {
   "cell_type": "code",
   "execution_count": 19,
   "metadata": {},
   "outputs": [
    {
     "name": "stdout",
     "output_type": "stream",
     "text": [
      "366\n"
     ]
    }
   ],
   "source": [
    "jumlah3 = 0\n",
    "for i in hari_setahun:\n",
    "    jumlah3 = jumlah3 + i\n",
    "    \n",
    "print(jumlah3)"
   ]
  },
  {
   "cell_type": "code",
   "execution_count": 18,
   "metadata": {},
   "outputs": [
    {
     "ename": "TypeError",
     "evalue": "'int' object is not callable",
     "output_type": "error",
     "traceback": [
      "\u001B[1;31m---------------------------------------------------------------------------\u001B[0m",
      "\u001B[1;31mTypeError\u001B[0m                                 Traceback (most recent call last)",
      "Cell \u001B[1;32mIn[18], line 2\u001B[0m\n\u001B[0;32m      1\u001B[0m jumlah \u001B[38;5;241m=\u001B[39m \u001B[38;5;28msum\u001B[39m(hari_setahun)\n\u001B[1;32m----> 2\u001B[0m maxs \u001B[38;5;241m=\u001B[39m \u001B[38;5;28;43mmax\u001B[39;49m\u001B[43m(\u001B[49m\u001B[43mhari_setahun\u001B[49m\u001B[43m)\u001B[49m\n\u001B[0;32m      3\u001B[0m \u001B[38;5;28mprint\u001B[39m(maxs)\n\u001B[0;32m      4\u001B[0m \u001B[38;5;28mprint\u001B[39m(jumlah)\n",
      "\u001B[1;31mTypeError\u001B[0m: 'int' object is not callable"
     ]
    }
   ],
   "source": [
    "jumlah = sum(hari_setahun)\n",
    "print(jumlah)"
   ]
  },
  {
   "cell_type": "markdown",
   "metadata": {},
   "source": [
    "5. Menggabungkan, menambahkan dan memotong list"
   ]
  },
  {
   "cell_type": "code",
   "execution_count": 21,
   "metadata": {},
   "outputs": [
    {
     "name": "stdout",
     "output_type": "stream",
     "text": [
      "[1, 2, 3, 4, 5, 6]\n"
     ]
    }
   ],
   "source": [
    "list1 = [1, 2, 3]\n",
    "list2 = [4, 5, 6]\n",
    "list3 = list1 + list2\n",
    "print(list3)"
   ]
  },
  {
   "cell_type": "code",
   "execution_count": 6,
   "outputs": [
    {
     "name": "stdout",
     "output_type": "stream",
     "text": [
      "[5, 7, 9]\n"
     ]
    }
   ],
   "source": [
    "list1 = [1, 2, 3]\n",
    "list2 = [4, 5, 6]\n",
    "list3 = []\n",
    "for i in range (len(list1)):\n",
    "    list3.append(list1[i]+list2[i])\n",
    "print(list3)"
   ],
   "metadata": {
    "collapsed": false
   }
  },
  {
   "cell_type": "code",
   "execution_count": 7,
   "metadata": {},
   "outputs": [
    {
     "name": "stdout",
     "output_type": "stream",
     "text": [
      "[1, 2, 3, 4, 5, 6, 7, 8, 9, 10]\n"
     ]
    }
   ],
   "source": [
    "data = []\n",
    "for i in range(1,11):\n",
    "    data.append(i)\n",
    "print(data)"
   ]
  },
  {
   "cell_type": "code",
   "execution_count": 23,
   "metadata": {},
   "outputs": [
    {
     "name": "stdout",
     "output_type": "stream",
     "text": [
      "[1, 2, 3, 4, 5, 6]\n",
      "[1, 2, 3]\n"
     ]
    }
   ],
   "source": [
    "print(list3)\n",
    "list4 = list3[0:3] #list4 berisi potongan list3 yaitu 3 elemen pertama list3\n",
    "print(list4) "
   ]
  },
  {
   "cell_type": "code",
   "execution_count": 24,
   "metadata": {},
   "outputs": [
    {
     "name": "stdout",
     "output_type": "stream",
     "text": [
      "[2, 3]\n",
      "[3]\n",
      "[1, 2, 3]\n",
      "[4, 5, 6]\n",
      "[1, 2, 3, 4, 5, 6]\n"
     ]
    }
   ],
   "source": [
    "print(list3[1:3])\n",
    "print(list3[2:3])\n",
    "print(list3[:3])\n",
    "print(list3[-3:])\n",
    "print(list3[:])"
   ]
  },
  {
   "cell_type": "code",
   "execution_count": 25,
   "metadata": {},
   "outputs": [
    {
     "name": "stdout",
     "output_type": "stream",
     "text": [
      "[1, 2, 3, 4, 5, 6]\n",
      "[1, 2, 3, [], 5, 6]\n",
      "[1, 2, 3, 5, 6]\n"
     ]
    }
   ],
   "source": [
    "print(list3)\n",
    "list3[3] = []\n",
    "print(list3)\n",
    "del(list3[3])\n",
    "print(list3)"
   ]
  },
  {
   "cell_type": "code",
   "execution_count": 26,
   "metadata": {},
   "outputs": [
    {
     "name": "stdout",
     "output_type": "stream",
     "text": [
      "214\n"
     ]
    }
   ],
   "source": [
    "hari_kemarau = hari_setahun[3:10]\n",
    "print(sum(hari_kemarau))"
   ]
  },
  {
   "cell_type": "code",
   "execution_count": 8,
   "metadata": {},
   "outputs": [
    {
     "name": "stdout",
     "output_type": "stream",
     "text": [
      "[31, 29, 31]\n",
      "[30, 31]\n",
      "152\n"
     ]
    }
   ],
   "source": [
    "hari_hujan = hari_setahun[0:3] + hari_setahun[-2:]\n",
    "print(hari_setahun[0:3])\n",
    "print(hari_setahun[-2:])\n",
    "print(sum(hari_hujan))"
   ]
  },
  {
   "cell_type": "code",
   "execution_count": 28,
   "metadata": {},
   "outputs": [
    {
     "name": "stdout",
     "output_type": "stream",
     "text": [
      "[31, 29, 31, 30, 31, 30, 31, 31, 30, 31, 30, 31]\n",
      "152\n"
     ]
    }
   ],
   "source": [
    "hari_setahun2 = hari_setahun\n",
    "print(hari_setahun2)\n",
    "del(hari_setahun2[3:10])\n",
    "hari_hujan2 = hari_setahun2\n",
    "print(sum(hari_hujan2))"
   ]
  },
  {
   "cell_type": "code",
   "execution_count": 29,
   "metadata": {},
   "outputs": [
    {
     "data": {
      "text/plain": "42"
     },
     "execution_count": 29,
     "metadata": {},
     "output_type": "execute_result"
    }
   ],
   "source": [
    "def maksimum1(x):\n",
    "    maks = x[0]\n",
    "    for i in x:\n",
    "        if i >= maks:\n",
    "            maks = i\n",
    "    return maks\n",
    "\n",
    "suhu = [34, 27, 37, 29, 25, 30, 42]\n",
    "maksimum1(suhu)"
   ]
  },
  {
   "cell_type": "code",
   "execution_count": 30,
   "metadata": {},
   "outputs": [
    {
     "name": "stdout",
     "output_type": "stream",
     "text": [
      "suhu maksimum 42 di hari ke- 7\n"
     ]
    }
   ],
   "source": [
    "def maksimum2(x):\n",
    "    maks = x[0]\n",
    "    for i in range(len(x)):\n",
    "        if x[i] >= maks:\n",
    "            maks = x[i]\n",
    "    return maks, i+1\n",
    "\n",
    "suhu = [34, 27, 37, 29, 25, 30, 42]\n",
    "print(\"suhu maksimum\", maksimum2(suhu)[0], \"di hari ke-\", maksimum2(suhu)[1])\n"
   ]
  },
  {
   "cell_type": "code",
   "execution_count": 31,
   "metadata": {},
   "outputs": [
    {
     "name": "stdout",
     "output_type": "stream",
     "text": [
      "True\n",
      "False\n",
      "42\n"
     ]
    }
   ],
   "source": [
    "print(34 in suhu)\n",
    "print(50 in suhu)\n",
    "print(max(suhu))\n"
   ]
  }
 ],
 "metadata": {
  "kernelspec": {
   "display_name": "Python 3",
   "language": "python",
   "name": "python3"
  },
  "language_info": {
   "codemirror_mode": {
    "name": "ipython",
    "version": 3
   },
   "file_extension": ".py",
   "mimetype": "text/x-python",
   "name": "python",
   "nbconvert_exporter": "python",
   "pygments_lexer": "ipython3",
   "version": "3.8.5"
  }
 },
 "nbformat": 4,
 "nbformat_minor": 4
}

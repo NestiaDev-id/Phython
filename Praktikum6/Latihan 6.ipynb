{
 "cells": [
  {
   "cell_type": "markdown",
   "id": "96ee7454",
   "metadata": {},
   "source": [
    "# Latihan 6"
   ]
  },
  {
   "cell_type": "markdown",
   "id": "d3ebe8bd",
   "metadata": {},
   "source": [
    "1. Diberikan list [12, 35, 9, 56, 24}. Buatlah program untuk menukar elemen pertama dan terakhir dari list tersebut!"
   ]
  },
  {
   "cell_type": "code",
   "execution_count": null,
   "id": "566f73ae",
   "metadata": {},
   "outputs": [],
   "source": []
  },
  {
   "cell_type": "markdown",
   "id": "9c3c2276",
   "metadata": {},
   "source": [
    "2. Diberikan list [1, 2, 5, 4, 3]. Buatlah program untuk menghitung hasil kali dalam list tersebut!"
   ]
  },
  {
   "cell_type": "code",
   "execution_count": null,
   "id": "4da20f62",
   "metadata": {},
   "outputs": [],
   "source": []
  },
  {
   "cell_type": "markdown",
   "id": "5b7c9b9f",
   "metadata": {},
   "source": [
    "3. Diberikan 2 buah list yaitu list1 = [1, -2, 3, 7, 5] dan list2 =[6, 4, 8, 9, -1]. Buatlah program untuk menghitung jumlahan dari hasil kali elemen2 seletak (dengan indeks sama) dalam kedua list tersebut!"
   ]
  },
  {
   "cell_type": "code",
   "execution_count": null,
   "id": "cfbb320a",
   "metadata": {},
   "outputs": [],
   "source": []
  },
  {
   "cell_type": "markdown",
   "id": "df8cfd76",
   "metadata": {},
   "source": [
    "4. Diberikan list [20, 45, 1, 13, 25, 100]. Buatlah program untuk menampilkan elemen terkecil dari list tersebut!"
   ]
  },
  {
   "cell_type": "code",
   "execution_count": null,
   "id": "1158093c",
   "metadata": {},
   "outputs": [],
   "source": []
  },
  {
   "cell_type": "markdown",
   "id": "ef396c7f",
   "metadata": {},
   "source": [
    "5. Buatlah program untuk menampilkan semua bilangan ganjil dalam list [2, 7, 5, 64, 13]!"
   ]
  },
  {
   "cell_type": "code",
   "execution_count": null,
   "id": "7244bbca",
   "metadata": {},
   "outputs": [],
   "source": []
  },
  {
   "cell_type": "markdown",
   "id": "42bb6ede",
   "metadata": {},
   "source": [
    "6. Buatlah program untuk menghitung rata-rata dari bilangan-bilangan dalam list berikut [4, 5, 1, 2, 9, 7, 10, 8 ]! "
   ]
  },
  {
   "cell_type": "code",
   "execution_count": null,
   "id": "ce4d498a",
   "metadata": {},
   "outputs": [],
   "source": []
  },
  {
   "cell_type": "markdown",
   "id": "ec521991",
   "metadata": {},
   "source": [
    "7. Buatlah sebuah list yang elemen-elemennya adalah elemen-elemen dari list berikut [4, 5, 1, 2, 9, 7, 10, 8] yang nilainya lebih besar dari 5. "
   ]
  },
  {
   "cell_type": "code",
   "execution_count": null,
   "id": "a1cb65cb",
   "metadata": {},
   "outputs": [],
   "source": []
  },
  {
   "cell_type": "markdown",
   "id": "149172e7",
   "metadata": {},
   "source": [
    "8. "
   ]
  }
 ],
 "metadata": {
  "kernelspec": {
   "display_name": "Python 3 (ipykernel)",
   "language": "python",
   "name": "python3"
  },
  "language_info": {
   "codemirror_mode": {
    "name": "ipython",
    "version": 3
   },
   "file_extension": ".py",
   "mimetype": "text/x-python",
   "name": "python",
   "nbconvert_exporter": "python",
   "pygments_lexer": "ipython3",
   "version": "3.9.16"
  }
 },
 "nbformat": 4,
 "nbformat_minor": 5
}

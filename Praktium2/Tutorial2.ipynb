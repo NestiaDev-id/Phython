{
 "cells": [
  {
   "cell_type": "markdown",
   "metadata": {},
   "source": [
    "# Tutorial 2\n",
    "\n",
    "Dalam Tutorial 2 ini akan dibahas materi berkaitan dengan\n",
    "1. tipe data Boolean, operator pembanding, operator logika/Boolean\n",
    "2. pencabangan if, if-else, if-elif-else."
   ]
  },
  {
   "cell_type": "markdown",
   "metadata": {},
   "source": [
    "**_(Tipe data Boolean)_** Tipe data Boolean hanya mempunyai 2 nilai yaitu: True dan False\n",
    "Penulisan True dan False selalu dituliskan dengan huruf pertamanya adalah huruf besar dan tidak perlu dituliskan dalam tanda petik. "
   ]
  },
  {
   "cell_type": "code",
   "execution_count": null,
   "metadata": {},
   "outputs": [],
   "source": [
    "benar = True\n",
    "benar"
   ]
  },
  {
   "cell_type": "code",
   "execution_count": null,
   "metadata": {},
   "outputs": [],
   "source": [
    "betul = true\n",
    "betul"
   ]
  },
  {
   "cell_type": "code",
   "execution_count": null,
   "metadata": {},
   "outputs": [],
   "source": [
    "salah = False\n",
    "salah"
   ]
  },
  {
   "cell_type": "code",
   "execution_count": null,
   "metadata": {},
   "outputs": [],
   "source": [
    "salah2 = false\n",
    "salah2"
   ]
  },
  {
   "cell_type": "markdown",
   "metadata": {},
   "source": [
    "**_(Operator Pembanding)_** Operator pembanding: ==, !=, >, <, >=, <= selalu bernilai True atau False. Operator ini juga dapat digunakan untuk data bertipe string."
   ]
  },
  {
   "cell_type": "code",
   "execution_count": null,
   "metadata": {},
   "outputs": [],
   "source": [
    "1 == 2"
   ]
  },
  {
   "cell_type": "code",
   "execution_count": null,
   "metadata": {},
   "outputs": [],
   "source": [
    "1 != 2"
   ]
  },
  {
   "cell_type": "code",
   "execution_count": null,
   "metadata": {},
   "outputs": [],
   "source": [
    "1 < 2"
   ]
  },
  {
   "cell_type": "code",
   "execution_count": null,
   "metadata": {},
   "outputs": [],
   "source": [
    "1 > 2"
   ]
  },
  {
   "cell_type": "code",
   "execution_count": null,
   "metadata": {},
   "outputs": [],
   "source": [
    "1 <= 2"
   ]
  },
  {
   "cell_type": "code",
   "execution_count": null,
   "metadata": {},
   "outputs": [],
   "source": [
    "1 >= 2"
   ]
  },
  {
   "cell_type": "code",
   "execution_count": null,
   "metadata": {},
   "outputs": [],
   "source": [
    "42 == 42.0"
   ]
  },
  {
   "cell_type": "code",
   "execution_count": null,
   "metadata": {},
   "outputs": [],
   "source": [
    "\"hallo\" == \"hallo\""
   ]
  },
  {
   "cell_type": "code",
   "execution_count": null,
   "metadata": {},
   "outputs": [],
   "source": [
    "\"halo\" == \"hallo\""
   ]
  },
  {
   "cell_type": "code",
   "execution_count": null,
   "metadata": {},
   "outputs": [],
   "source": [
    "\"halo\" != \"hallo\""
   ]
  },
  {
   "cell_type": "code",
   "execution_count": null,
   "metadata": {},
   "outputs": [],
   "source": [
    "42 == \"42\""
   ]
  },
  {
   "cell_type": "markdown",
   "metadata": {},
   "source": [
    "**_(Operator logika/Boolean)_** Operator logika/Boolean: not, and, or"
   ]
  },
  {
   "cell_type": "code",
   "execution_count": null,
   "metadata": {},
   "outputs": [],
   "source": [
    "not True"
   ]
  },
  {
   "cell_type": "code",
   "execution_count": null,
   "metadata": {},
   "outputs": [],
   "source": [
    "not False"
   ]
  },
  {
   "cell_type": "code",
   "execution_count": null,
   "metadata": {},
   "outputs": [],
   "source": [
    "True and True"
   ]
  },
  {
   "cell_type": "code",
   "execution_count": null,
   "metadata": {},
   "outputs": [],
   "source": [
    "True and False"
   ]
  },
  {
   "cell_type": "code",
   "execution_count": null,
   "metadata": {},
   "outputs": [],
   "source": [
    "True or True"
   ]
  },
  {
   "cell_type": "code",
   "execution_count": null,
   "metadata": {},
   "outputs": [],
   "source": [
    "True or False"
   ]
  },
  {
   "cell_type": "code",
   "execution_count": null,
   "metadata": {},
   "outputs": [],
   "source": [
    "not(1 < 2)"
   ]
  },
  {
   "cell_type": "code",
   "execution_count": null,
   "metadata": {},
   "outputs": [],
   "source": [
    "(2 < 3) and (1 < 3)"
   ]
  },
  {
   "cell_type": "code",
   "execution_count": null,
   "metadata": {},
   "outputs": [],
   "source": [
    "(2 != 3) or (3 <= 1)"
   ]
  },
  {
   "cell_type": "code",
   "execution_count": null,
   "metadata": {},
   "outputs": [],
   "source": [
    "a = 1\n",
    "b = 2\n",
    "c = 2\n",
    "(a <= b) and (b <= c) or not(b < c)"
   ]
  },
  {
   "cell_type": "code",
   "execution_count": null,
   "metadata": {},
   "outputs": [],
   "source": [
    "tiga = \"three\"\n",
    "empat = \"four\"\n",
    "print(len(tiga) < len(empat))\n",
    "print(len(tiga))\n",
    "print(len(empat))"
   ]
  },
  {
   "cell_type": "markdown",
   "metadata": {},
   "source": [
    "**_(Pencabangan if)_**"
   ]
  },
  {
   "cell_type": "code",
   "execution_count": null,
   "metadata": {},
   "outputs": [],
   "source": [
    "beli = int(input(\"berapa banyak barang yang akan dibeli? \"))\n",
    "total_harga = beli * 1000\n",
    "if beli >= 100:\n",
    "    diskon = beli * 100\n",
    "    total_harga = total_harga - diskon\n",
    "print(\"Total yang harus dibayar\", total_harga)"
   ]
  },
  {
   "cell_type": "markdown",
   "metadata": {},
   "source": [
    "**_(Pencabangan if-else)_**"
   ]
  },
  {
   "cell_type": "code",
   "execution_count": null,
   "metadata": {},
   "outputs": [],
   "source": [
    "beli = int(input(\"berapa banyak barang yang akan dibeli? \"))\n",
    "if beli >= 100:\n",
    "    total_harga = beli * 900\n",
    "else:\n",
    "    total_harga = beli * 1000\n",
    "print(\"Total yang harus dibayar\", total_harga)"
   ]
  },
  {
   "cell_type": "markdown",
   "metadata": {},
   "source": [
    "**_(Pencabangan if-elif-else)_**"
   ]
  },
  {
   "cell_type": "code",
   "execution_count": null,
   "metadata": {},
   "outputs": [],
   "source": [
    "beli = int(input(\"berapa banyak barang yang akan dibeli? \"))\n",
    "if beli >= 500:\n",
    "    total_harga = beli * 750\n",
    "elif beli >= 100:\n",
    "    total_harga = beli * 900\n",
    "else:\n",
    "    total_harga = beli * 1000\n",
    "print(\"Total yang harus dibayar\", total_harga)"
   ]
  },
  {
   "cell_type": "code",
   "execution_count": null,
   "metadata": {},
   "outputs": [],
   "source": [
    "beli = int(input(\"berapa banyak barang yang akan dibeli? \"))\n",
    "if beli >= 100:\n",
    "    total_harga = beli * 900\n",
    "elif beli >= 500:\n",
    "    total_harga = beli * 750\n",
    "else:\n",
    "    total_harga = beli * 1000\n",
    "print(\"Total yang harus dibayar\", total_harga)"
   ]
  },
  {
   "cell_type": "code",
   "execution_count": null,
   "metadata": {},
   "outputs": [],
   "source": [
    "beli = int(input(\"berapa banyak barang yang akan dibeli? \"))\n",
    "if beli >= 100 and beli < 500:\n",
    "    total_harga = beli * 900\n",
    "elif beli >= 500:\n",
    "    total_harga = beli * 750\n",
    "else:\n",
    "    total_harga = beli * 1000\n",
    "print(\"Total yang harus dibayar\", total_harga)"
   ]
  },
  {
   "cell_type": "code",
   "execution_count": null,
   "metadata": {},
   "outputs": [],
   "source": [
    "beli = int(input(\"berapa banyak barang yang akan dibeli? \"))\n",
    "if 100 <= beli < 500:\n",
    "    total_harga = beli * 900\n",
    "elif beli >= 500:\n",
    "    total_harga = beli * 750\n",
    "else:\n",
    "    total_harga = beli * 1000\n",
    "print(\"Total yang harus dibayar\", total_harga)"
   ]
  },
  {
   "cell_type": "code",
   "execution_count": null,
   "metadata": {},
   "outputs": [],
   "source": [
    "beli = int(input(\"berapa banyak barang yang akan dibeli? \"))\n",
    "if beli >= 100:\n",
    "    if beli < 500:\n",
    "        total_harga = beli * 900\n",
    "    else:\n",
    "        total_harga = beli * 750\n",
    "else:\n",
    "    total_harga = beli * 1000\n",
    "print(\"Total yang harus dibayar\", total_harga)"
   ]
  }
 ],
 "metadata": {
  "kernelspec": {
   "display_name": "Python 3",
   "language": "python",
   "name": "python3"
  },
  "language_info": {
   "codemirror_mode": {
    "name": "ipython",
    "version": 3
   },
   "file_extension": ".py",
   "mimetype": "text/x-python",
   "name": "python",
   "nbconvert_exporter": "python",
   "pygments_lexer": "ipython3",
   "version": "3.8.5"
  }
 },
 "nbformat": 4,
 "nbformat_minor": 4
}

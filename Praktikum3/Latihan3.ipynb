{
 "cells": [
  {
   "cell_type": "markdown",
   "metadata": {},
   "source": [
    "# Latihan 3: gunakanlah perintah perulangan **while** !"
   ]
  },
  {
   "cell_type": "markdown",
   "metadata": {},
   "source": [
    "1. Buatlah program yang meminta pengguna untuk memasukkan suatu bilangan bulat positif di bawah 20, kemudian tampilkan hitung mundur dari 20 sampai bilangan tersebut!"
   ]
  },
  {
   "cell_type": "code",
   "execution_count": 3,
   "metadata": {},
   "outputs": [
    {
     "name": "stdout",
     "output_type": "stream",
     "text": [
      "masukan bilangan bulat positif di bawah 20;17\n",
      "20\n",
      "19\n",
      "18\n",
      "17\n"
     ]
    }
   ],
   "source": [
    "bilangan = int(input(\"masukan bilangan bulat positif di bawah 20;\"))\n",
    "\n",
    "if bilangan < 20:\n",
    "    for i in range (20, bilangan-1, -1):\n",
    "        print(i)\n",
    "else:\n",
    "    print (\"bilangan yang dimasukan tidak valid.\")"
   ]
  },
  {
   "cell_type": "markdown",
   "metadata": {},
   "source": [
    "2. Buatlah program untuk menghitung  akar persamaan kuadrat, setelah selesai kemudian tampilkan pertanyaan apakah akan menghitung akar persamaan kuadrat lagi!"
   ]
  },
  {
   "cell_type": "code",
   "execution_count": 1,
   "metadata": {},
   "outputs": [
    {
     "name": "stdout",
     "output_type": "stream",
     "text": [
      "tidak memiliki persamaa yang real\n"
     ]
    }
   ],
   "source": [
    "import math\n",
    "\n",
    "ulangi =1\n",
    "while ulangi == 1:\n",
    "    a=int(input(\"nilai a\"))\n",
    "    b=int(input(\"nilai b\"))\n",
    "    c=int(input(\"nilai c\"))\n",
    "\n",
    "    d=b**2-4*a*b\n",
    "\n",
    "    if d>0:\n",
    "        a1=(b+ math.sqrt(d)) / (2*a)\n",
    "        a2=(b- math.sqrt(d)) / (2*a)\n",
    "        print(\"penyelesaian\",a1,\" dan \",a2)\n",
    "    elif d == 0:\n",
    "        b=-b/(2*a)\n",
    "        print(b)\n",
    "    else:\n",
    "        print(\"tidak memiliki persamaa yang real\")\n",
    "\n",
    "    ulangi=int(input(\"ulangi?(1/-1)\"))\n",
    "    if ulangi == -1:\n",
    "        break"
   ]
  },
  {
   "cell_type": "markdown",
   "metadata": {},
   "source": [
    "3. Buatlah program untuk meminta pengguna memasukkan data nilai dari 5 mahasiswa dan hitunglah rata-rata!"
   ]
  },
  {
   "cell_type": "code",
   "execution_count": null,
   "metadata": {},
   "outputs": [],
   "source": [
    "i=1\n",
    "jumlah = 0\n",
    "while i <= 5:\n",
    "    nilai = (int(input(\"Masukkan nilai Mahasiswa : \")))\n",
    "    jumlah= nilai + jumlah\n",
    "    i = i + 1\n",
    "rata = jumlah / 5\n",
    "print(\"Rata-rata Nilai Mahasiswa :\" ,rata)"
   ]
  },
  {
   "cell_type": "markdown",
   "metadata": {},
   "source": [
    "4. Buatlah program untuk menampilkan tabel yang berisi suhu 0, 10, 20, ..., 300 derajat Celcius beserta konversinya ke dalam derajat Reamur dan Fahrenheit!"
   ]
  },
  {
   "cell_type": "code",
   "execution_count": 2,
   "metadata": {},
   "outputs": [
    {
     "name": "stdout",
     "output_type": "stream",
     "text": [
      "C     R      F\n",
      "0    0.0    32.0\n",
      "10    8.0    50.0\n",
      "20    16.0    68.0\n",
      "30    24.0    86.0\n",
      "40    32.0    104.0\n",
      "50    40.0    122.0\n",
      "60    48.0    140.0\n",
      "70    56.0    158.0\n",
      "80    64.0    176.0\n",
      "90    72.0    194.0\n",
      "100    80.0    212.0\n",
      "110    88.0    230.0\n",
      "120    96.0    248.0\n",
      "130    104.0    266.0\n",
      "140    112.0    284.0\n",
      "150    120.0    302.0\n",
      "160    128.0    320.0\n",
      "170    136.0    338.0\n",
      "180    144.0    356.0\n",
      "190    152.0    374.0\n",
      "200    160.0    392.0\n",
      "210    168.0    410.0\n",
      "220    176.0    428.0\n",
      "230    184.0    446.0\n",
      "240    192.0    464.0\n",
      "250    200.0    482.0\n",
      "260    208.0    500.0\n",
      "270    216.0    518.0\n",
      "280    224.0    536.0\n",
      "290    232.0    554.0\n",
      "300    240.0    572.0\n"
     ]
    }
   ],
   "source": [
    "c=0\n",
    "print(\"C     R      F\")\n",
    "while c<=300:\n",
    "    r = (4/5)*c\n",
    "    f = (9/5)*c+32\n",
    "    print(f\"{c}    {r}    {f}\")\n",
    "    c=c+10"
   ]
  },
  {
   "cell_type": "markdown",
   "metadata": {},
   "source": [
    "5. Buatlah program untuk menghitung akar kuadrat dari suatu bilangan positif dengan algoritma Newton berikut ini:\n",
    "    * Mintalah pengguna memasukkan bilangan yang akan dicari akar kuadratnya, misal P\n",
    "    * Mulailah dengan tebakan awal P/2\n",
    "    * Ketika nilai absolut dari perbedaan antara P dengan tebakan ** 2 lebih dari suatu toleransi tertentu, maka tebakan diperbaiki dengan cara mengisikan rata-rata dari tebakan P/tebakan\n",
    "    * Jika nilai absolut dari perbedaan antara P dengan tebakan ** 2 kurang dari suatu toleransi tertentu maka berhentilah"
   ]
  },
  {
   "cell_type": "code",
   "execution_count": 9,
   "metadata": {},
   "outputs": [
    {
     "name": "stdout",
     "output_type": "stream",
     "text": [
      "Masukkan nilai p :9\n",
      "Akar dari 9 adalah 3.0\n"
     ]
    }
   ],
   "source": [
    "p = int(input(\"Masukkan nilai p :\"))\n",
    "tebakan = p/2\n",
    "toleransi = 10^(-1000000)\n",
    "k=0\n",
    "while(k<100):\n",
    "    if(abs(tebakan**2-p)>toleransi):\n",
    "        tebakan = (tebakan+p/tebakan)/2\n",
    "    k+=1\n",
    "print(\"Akar dari \"+str(p)+\" adalah \"+str(tebakan))"
   ]
  },
  {
   "cell_type": "markdown",
   "metadata": {},
   "source": [
    "6. Buatlah program untuk menghitung berapa kali sebuah koin dilempar agar muncul gambar atau angka 3 kali! Modifikasilah program tersebut supaya dapat menghitung rata-rata dari 10 kali percobaan yang sama!"
   ]
  },
  {
   "cell_type": "code",
   "execution_count": null,
   "metadata": {},
   "outputs": [
    {
     "name": "stdout",
     "output_type": "stream",
     "text": [
      "Berapa kali koin ingin dilempar: 3\n",
      "Angka\n",
      "Gambar\n",
      "Gambar\n",
      "Angka atau Gambar belum muncul 3x dalam 3 pelemparan\n",
      "Berapa kali koin ingin dilempar: 8\n",
      "Gambar\n",
      "Angka\n",
      "Gambar\n",
      "Gambar\n",
      "Peluang muncul gambar dalam 4 pelemparan adalah 0.25\n",
      "Peluang muncul angka dalam 4 pelemparan adalah 0.75\n"
     ]
    }
   ],
   "source": [
    "import random\n",
    "\n",
    "i = 0\n",
    "while i<3 :\n",
    "    b = int(input(\"Berapa kali koin ingin dilempar: \"))\n",
    "    A = 0\n",
    "    G = 0 \n",
    "    if b<3 :\n",
    "        print(\"Minimal percobaan adalah 3x, silahkan coba lagi\")\n",
    "    else :\n",
    "        while (A<3 and G<3) and A+G<b :\n",
    "            koin = random.randint(0,1)\n",
    "            if koin == 0 :\n",
    "                print(\"Angka\")\n",
    "                A += 1\n",
    "            else :\n",
    "                print(\"Gambar\")\n",
    "                G += 1\n",
    "                \n",
    "        peluangA = A/(A+G)\n",
    "        peluangG = G/(A+G)\n",
    "        if A == 3 :\n",
    "            print(\"Peluang muncul angka dalam {} pelemparan adalah {}\".format(A+G, peluangA))\n",
    "            print(\"Peluang muncul gambar dalam {} pelemparan adalah {}\".format(A+G, peluangG))\n",
    "        elif G == 3 :\n",
    "            print(\"Peluang muncul gambar dalam {} pelemparan adalah {}\".format(A+G, peluangA))\n",
    "            print(\"Peluang muncul angka dalam {} pelemparan adalah {}\".format(A+G, peluangG))\n",
    "        else :\n",
    "            print(\"Angka atau Gambar belum muncul 3x dalam {} pelemparan\".format(A+G))\n",
    "    i = i + 1\n",
    "        \n",
    "print(\"Peluang muncul angka dalam {} kali perulangan adalah {}\".format(peluangA/i))\n",
    "print(\"Peluang muncul gambar dalam {} kali perulangan adalah {}\".format(peluangG/i))"
   ]
  },
  {
   "cell_type": "markdown",
   "metadata": {},
   "source": [
    "7. Buatlah program untuk memasukkan 5 bilangan bulat antara 0 sampai 10, kemudian urutkanlah bilangan tersebut dari yang terkecil ke yang terbesar!"
   ]
  },
  {
   "cell_type": "code",
   "execution_count": 32,
   "metadata": {},
   "outputs": [
    {
     "name": "stdout",
     "output_type": "stream",
     "text": [
      "Masukkan bilangan bulat positif antara 0-10 :5\n",
      "Masukkan bilangan bulat positif antara 0-10 :6\n",
      "Masukkan bilangan bulat positif antara 0-10 :1\n",
      "Masukkan bilangan bulat positif antara 0-10 :2\n",
      "Masukkan bilangan bulat positif antara 0-10 :3\n",
      "\n",
      "Bilangan yang telah diurutkan adalah [1, 2, 3, 5, 6]\n"
     ]
    }
   ],
   "source": [
    "bilangan = []\n",
    "\n",
    "i = 0\n",
    "while i<5 :\n",
    "    bilangan += [int(input(\"Masukkan bilangan bulat positif antara 0-10 :\"))]\n",
    "    i += 1\n",
    "    \n",
    "bilangan.sort()\n",
    "\n",
    "print(\"\\nBilangan yang telah diurutkan adalah {}\".format(bilangan))"
   ]
  },
  {
   "cell_type": "markdown",
   "metadata": {},
   "source": [
    "8. Buatlah program untuk menghitung: 1 + 4 + 9 + 16 + ... + n ** 2"
   ]
  },
  {
   "cell_type": "code",
   "execution_count": 29,
   "metadata": {},
   "outputs": [
    {
     "name": "stdout",
     "output_type": "stream",
     "text": [
      "Masukan banyak suku: 3\n",
      "Jumlah bilangan:  14\n"
     ]
    }
   ],
   "source": [
    "n=int(input(\"Masukan banyak suku: \"))\n",
    "i=1\n",
    "jumlah=0\n",
    "while i<=n:\n",
    "    jumlah=jumlah+i**2\n",
    "    i=i+1\n",
    "print(\"Jumlah bilangan: \", jumlah)"
   ]
  }
 ],
 "metadata": {
  "kernelspec": {
   "display_name": "Python 3",
   "language": "python",
   "name": "python3"
  },
  "language_info": {
   "codemirror_mode": {
    "name": "ipython",
    "version": 3
   },
   "file_extension": ".py",
   "mimetype": "text/x-python",
   "name": "python",
   "nbconvert_exporter": "python",
   "pygments_lexer": "ipython3",
   "version": "3.7.4"
  }
 },
 "nbformat": 4,
 "nbformat_minor": 4
}

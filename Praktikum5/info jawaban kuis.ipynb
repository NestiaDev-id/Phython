{
 "cells": [
  {
   "cell_type": "markdown",
   "id": "8b701d8a",
   "metadata": {},
   "source": [
    "# <center>KUIS</center>"
   ]
  },
  {
   "cell_type": "markdown",
   "id": "a2abe07c",
   "metadata": {},
   "source": [
    "### 1. Buatlah program untuk membuat segitiga pascal. Pengguna diminta untuk menginput berapa baris yang ingin dimunculkan."
   ]
  },
  {
   "cell_type": "code",
   "execution_count": 1,
   "id": "e7b6ed93",
   "metadata": {},
   "outputs": [
    {
     "name": "stdout",
     "output_type": "stream",
     "text": [
      "Masukkan jumlah baris yang diinginkan: 9\n",
      "        1 \n",
      "       1 1 \n",
      "      1 2 1 \n",
      "     1 3 3 1 \n",
      "    1 4 6 4 1 \n",
      "   1 5 10 10 5 1 \n",
      "  1 6 15 20 15 6 1 \n",
      " 1 7 21 35 35 21 7 1 \n",
      "1 8 28 56 70 56 28 8 1 \n"
     ]
    }
   ],
   "source": [
    "rows = int(input(\"Masukkan jumlah baris yang diinginkan: \"))\n",
    "coef = 1\n",
    "\n",
    "for i in range(1, rows+1):\n",
    "    for space in range(1, rows-i+1):\n",
    "        print(\" \",end=\"\")\n",
    "    for j in range(0, i):\n",
    "        if j==0 or i==0:\n",
    "            coef = 1\n",
    "        else:\n",
    "            coef = coef * (i - j)//j\n",
    "        print(coef, end = \" \")\n",
    "    print()"
   ]
  },
  {
   "cell_type": "code",
   "execution_count": 22,
   "id": "95227384",
   "metadata": {},
   "outputs": [
    {
     "name": "stdout",
     "output_type": "stream",
     "text": [
      "Masukkan jumlah baris yang diinginkan: 9\n",
      "        1 \n",
      "       1 1 \n",
      "      1 2 1 \n",
      "     1 3 3 1 \n",
      "    1 4 6 4 1 \n",
      "   1 5 10 10 5 1 \n",
      "  1 6 15 20 15 6 1 \n",
      " 1 7 21 35 35 21 7 1 \n",
      "1 8 28 56 70 56 28 8 1 \n"
     ]
    }
   ],
   "source": [
    "## Expected Output"
   ]
  },
  {
   "cell_type": "markdown",
   "id": "3b5a49fa",
   "metadata": {},
   "source": [
    "### 2. Buatlah program  untuk menampilkan barisan bilangan fibonacci dengan menggunakan perulangan for. Program harus meminta pengguna untuk memasukkan jumlah bilangan fibonacci yang ingin ditampilkan, kemudian menampilkan barisan bilangan fibonacci tersebut."
   ]
  },
  {
   "cell_type": "code",
   "execution_count": 2,
   "id": "f7340236",
   "metadata": {},
   "outputs": [
    {
     "name": "stdout",
     "output_type": "stream",
     "text": [
      "Masukkan jumlah barisan Fibonacci yang ingin dimunculkan : 9\n",
      "\n",
      "Barisan Fibonacci dengan panjang 9 adalah \n",
      "[1, 1, 2, 3, 5, 8, 13, 21, 34]\n"
     ]
    }
   ],
   "source": [
    "N = int(input(\"Masukkan jumlah barisan Fibonacci yang ingin dimunculkan : \"))\n",
    "fib = [1,1]\n",
    "for i in range (2,N) :\n",
    "    fibonacci = fib[i-1] + fib[i-2]\n",
    "    fib.append(fibonacci)\n",
    "print(f\"\\nBarisan Fibonacci dengan panjang {N} adalah \\n{fib}\")"
   ]
  },
  {
   "cell_type": "code",
   "execution_count": 33,
   "id": "5245ce57",
   "metadata": {},
   "outputs": [
    {
     "name": "stdout",
     "output_type": "stream",
     "text": [
      "Masukkan jumlah barisan Fibonacci yang ingin dimunculkan : 9\n",
      "\n",
      "Barisan Fibonacci dengan panjang 9 adalah \n",
      "[1, 1, 2, 3, 5, 8, 13, 21, 34]\n"
     ]
    }
   ],
   "source": [
    "## Expected Output"
   ]
  },
  {
   "cell_type": "markdown",
   "id": "32842b4e",
   "metadata": {},
   "source": [
    "### 3. Terdapat nilai-nilai k yang ditampung dalam list *slope* sebagai berikut."
   ]
  },
  {
   "cell_type": "code",
   "execution_count": 3,
   "id": "09e01778",
   "metadata": {},
   "outputs": [],
   "source": [
    "slope = [0.00138274, 0.00090413, 0.00098677, 0.00081961, 0.00113673,\n",
    "       0.00085363, 0.00096585, 0.00089036, 0.00081923, 0.0007319 ,\n",
    "       0.00059588, 0.00059556, 0.00082864, 0.00050878, 0.0006642 ,\n",
    "       0.00053037, 0.0006199 , 0.00061766]"
   ]
  },
  {
   "cell_type": "markdown",
   "id": "c9816e23",
   "metadata": {},
   "source": [
    "__Terdapat juga nilai-nilai observasi yang ditampung dalam list *observation* sebagai berikut.__"
   ]
  },
  {
   "cell_type": "code",
   "execution_count": 4,
   "id": "e01926ff",
   "metadata": {},
   "outputs": [],
   "source": [
    "observation = [9.6, 18.3, 29.0, 47.2, 71.1, 119.1, 174.6,\n",
    "               257.3, 350.7, 441.0, 513.3, 559.7, 594.8, 629.4,\n",
    "               640.8, 651.1, 655.9, 659.6, 661.8]"
   ]
  },
  {
   "cell_type": "markdown",
   "id": "04f09b7b",
   "metadata": {},
   "source": [
    "__Kita ingin memprediksi nilai numerik dari kedua list diatas yaitu *slope* dan *observation* menggunakan rumus sebagai berikut.__"
   ]
  },
  {
   "cell_type": "markdown",
   "id": "d12ca9a7",
   "metadata": {},
   "source": [
    "<center>$p_{n+1} = p_{n} + slope \\times  (665-p_{n}) \\times p_{n}$</center?"
   ]
  },
  {
   "cell_type": "markdown",
   "id": "4458d618",
   "metadata": {},
   "source": [
    "__Dalam rumus diatas, nilai slope dimulai dari 0.00138274 hingga 0.00061766. Untuk nilai $p_{0} = 9.6$. Jadi, rumus tersebut digunakan untuk menghitung nilai dari $p_{1}$ hingga $p_{18}$. Contoh : <br>\n",
    "Untuk nilai slope = 0.00138274, maka $p_{1}$ = $p_{0}$ + $0.00138274$ $\\times$ (665-$p_{0}$) $\\times$ $p_{0}$ = 18.2999 <br>\n",
    "$p_{2}$ = $p_{1}$ + $0.00138274$ $\\times$ (665-$p_{1}$) $\\times$ $p_{1}$ = 34.6640 <br>\n",
    "<br>\n",
    "Dihitung hingga $p_{18}$. Setelah itu, gunakan slope lain yaitu 0.00090413 dan lakukanlah perhitungan yang sama. Berikut adalah contoh hasil perhitungan untuk slope ke-18 = 0.00061766__"
   ]
  },
  {
   "cell_type": "code",
   "execution_count": 6,
   "id": "d48693f3",
   "metadata": {},
   "outputs": [],
   "source": [
    "prediksi_k18 = [9.6, 13.48620712889967, 18.91323077611244, 26.460760695758864,\n",
    "                36.89685968206346, 51.21111117993633, 70.62584745613697, 96.5540171955845,\n",
    "                130.4546514286238, 173.52638953743173, 226.20253742399888, 287.5095076387721,\n",
    "                354.5452622806447, 422.5310685224048, 485.8105658444549, 539.5790295825781,\n",
    "                581.3787612144602, 611.4065970734496, 631.6456286525207]"
   ]
  },
  {
   "cell_type": "markdown",
   "id": "f5b50c26",
   "metadata": {},
   "source": [
    "__Tampunglah semua nilai prediksi dari prediksi $k_{1}$ hingga prediksi $k_{18}$. Setelah itu hitunglah rata-rata error tiap slope menggunakan rumus sebagai berikut.__"
   ]
  },
  {
   "cell_type": "markdown",
   "id": "5c7907b6",
   "metadata": {},
   "source": [
    "<center>$error = \\frac{\\left| prediksi - observation \\right|}{observation}$</center>"
   ]
  },
  {
   "cell_type": "markdown",
   "id": "56e01e5e",
   "metadata": {},
   "source": [
    "<center>rata-rata = jumlah total error / 19 </center>"
   ]
  },
  {
   "cell_type": "markdown",
   "id": "af9f05e1",
   "metadata": {},
   "source": [
    "__Misalnya, nilai rata-rata error untuk slope ke-18 dapat dilihat sebagai berikut__"
   ]
  },
  {
   "cell_type": "code",
   "execution_count": 18,
   "id": "2fa57c8a",
   "metadata": {
    "scrolled": false
   },
   "outputs": [
    {
     "data": {
      "text/plain": [
       "[0.0,\n",
       " 0.26304879077050985,\n",
       " 0.3478196284099159,\n",
       " 0.43939066322544784,\n",
       " 0.48105682585002163,\n",
       " 0.5700158591105262,\n",
       " 0.595499155463133,\n",
       " 0.6247414800016149,\n",
       " 0.6280163917062338,\n",
       " 0.6065161234978872,\n",
       " 0.559317090543544,\n",
       " 0.4863149765253313,\n",
       " 0.40392524835130345,\n",
       " 0.3286764084486737,\n",
       " 0.2418686550492276,\n",
       " 0.17128086379576402,\n",
       " 0.11361676899762133,\n",
       " 0.07306458903358164,\n",
       " 0.045564175502386284]"
      ]
     },
     "execution_count": 18,
     "metadata": {},
     "output_type": "execute_result"
    }
   ],
   "source": [
    "subtracted_k18 = []\n",
    "for i in range(len(observation)):\n",
    "    item = abs(prediksi_k18[i] - observation[i]) / observation[i]\n",
    "    subtracted_k18.append(item)\n",
    "\n",
    "subtracted_k18"
   ]
  },
  {
   "cell_type": "code",
   "execution_count": 17,
   "id": "fa162ea5",
   "metadata": {},
   "outputs": [
    {
     "data": {
      "text/plain": [
       "0.3673544049622486"
      ]
     },
     "execution_count": 17,
     "metadata": {},
     "output_type": "execute_result"
    }
   ],
   "source": [
    "rata_rata = sum(subtracted_k18)/len(observation)\n",
    "rata_rata"
   ]
  },
  {
   "cell_type": "markdown",
   "id": "2ad9ff91",
   "metadata": {},
   "source": [
    "__Buatlah kedalam bentuk tabel untuk masing-masing rata-rata error tiap slope. Expected output :__"
   ]
  },
  {
   "attachments": {
    "image.png": {
     "image/png": "[encoded data removed]"
    }
   },
   "cell_type": "markdown",
   "id": "74a61444",
   "metadata": {},
   "source": [
    "![image.png](attachment:image.png)"
   ]
  },
  {
   "cell_type": "code",
   "execution_count": 8,
   "id": "6e7f9531",
   "metadata": {},
   "outputs": [],
   "source": [
    "# Install 2 module ini dengan !pip install numpy dan !pip install pandas melalui cell\n",
    "import numpy as np\n",
    "import pandas as pd\n",
    "\n",
    "slope_galat = {}\n",
    "\n",
    "for i in range(len(slope)):\n",
    "    # hitung prediksi dengan slope ke-i\n",
    "    prediksi = [observation[0]]\n",
    "    for j in range(1, len(observation)):\n",
    "        prediksi.append(prediksi[j-1] * (1 + slope[i]*665 - slope[i]*prediksi[j-1]))\n",
    "    \n",
    "    # Menghitung nilai galat\n",
    "    galat = np.abs(np.array(prediksi)-np.array(observation))/np.array(observation)\n",
    "    \n",
    "    # Menghitung rata-rata galat\n",
    "    rata_galat = np.mean(galat)\n",
    "    \n",
    "    # Menyimpan rata-rata galat pada dictionary slope_galat\n",
    "    slope_galat[slope[i]] = rata_galat"
   ]
  },
  {
   "cell_type": "code",
   "execution_count": 9,
   "id": "13da07a0",
   "metadata": {},
   "outputs": [
    {
     "data": {
      "text/html": [
       "<style type=\"text/css\">\n",
       "#T_8513a_row0_col0, #T_8513a_row0_col1, #T_8513a_row0_col2, #T_8513a_row1_col0, #T_8513a_row1_col1, #T_8513a_row1_col2, #T_8513a_row2_col0, #T_8513a_row2_col1, #T_8513a_row2_col2, #T_8513a_row3_col0, #T_8513a_row3_col1, #T_8513a_row3_col2, #T_8513a_row4_col0, #T_8513a_row4_col1, #T_8513a_row4_col2, #T_8513a_row5_col0, #T_8513a_row5_col1, #T_8513a_row5_col2, #T_8513a_row6_col0, #T_8513a_row6_col1, #T_8513a_row6_col2, #T_8513a_row7_col0, #T_8513a_row7_col1, #T_8513a_row7_col2, #T_8513a_row8_col0, #T_8513a_row8_col1, #T_8513a_row8_col2, #T_8513a_row9_col0, #T_8513a_row9_col1, #T_8513a_row9_col2, #T_8513a_row10_col0, #T_8513a_row10_col1, #T_8513a_row10_col2, #T_8513a_row11_col0, #T_8513a_row11_col1, #T_8513a_row11_col2, #T_8513a_row12_col0, #T_8513a_row12_col1, #T_8513a_row12_col2, #T_8513a_row13_col0, #T_8513a_row13_col1, #T_8513a_row13_col2, #T_8513a_row14_col0, #T_8513a_row14_col1, #T_8513a_row14_col2, #T_8513a_row15_col0, #T_8513a_row15_col1, #T_8513a_row15_col2, #T_8513a_row16_col0, #T_8513a_row16_col1, #T_8513a_row16_col2, #T_8513a_row17_col0, #T_8513a_row17_col1, #T_8513a_row17_col2 {\n",
       "  text-align: center;\n",
       "}\n",
       "</style>\n",
       "<table id=\"T_8513a\">\n",
       "  <thead>\n",
       "    <tr>\n",
       "      <th class=\"blank level0\" >&nbsp;</th>\n",
       "      <th id=\"T_8513a_level0_col0\" class=\"col_heading level0 col0\" >Slope(k) ke-</th>\n",
       "      <th id=\"T_8513a_level0_col1\" class=\"col_heading level0 col1\" >Nilai k</th>\n",
       "      <th id=\"T_8513a_level0_col2\" class=\"col_heading level0 col2\" >Nilai Rata-Rata Galat</th>\n",
       "    </tr>\n",
       "  </thead>\n",
       "  <tbody>\n",
       "    <tr>\n",
       "      <th id=\"T_8513a_level0_row0\" class=\"row_heading level0 row0\" >0</th>\n",
       "      <td id=\"T_8513a_row0_col0\" class=\"data row0 col0\" >1</td>\n",
       "      <td id=\"T_8513a_row0_col1\" class=\"data row0 col1\" >0.001383</td>\n",
       "      <td id=\"T_8513a_row0_col2\" class=\"data row0 col2\" >0.306425</td>\n",
       "    </tr>\n",
       "    <tr>\n",
       "      <th id=\"T_8513a_level0_row1\" class=\"row_heading level0 row1\" >1</th>\n",
       "      <td id=\"T_8513a_row1_col0\" class=\"data row1 col0\" >2</td>\n",
       "      <td id=\"T_8513a_row1_col1\" class=\"data row1 col1\" >0.000904</td>\n",
       "      <td id=\"T_8513a_row1_col2\" class=\"data row1 col2\" >0.091262</td>\n",
       "    </tr>\n",
       "    <tr>\n",
       "      <th id=\"T_8513a_level0_row2\" class=\"row_heading level0 row2\" >2</th>\n",
       "      <td id=\"T_8513a_row2_col0\" class=\"data row2 col0\" >3</td>\n",
       "      <td id=\"T_8513a_row2_col1\" class=\"data row2 col1\" >0.000987</td>\n",
       "      <td id=\"T_8513a_row2_col2\" class=\"data row2 col2\" >0.051584</td>\n",
       "    </tr>\n",
       "    <tr>\n",
       "      <th id=\"T_8513a_level0_row3\" class=\"row_heading level0 row3\" >3</th>\n",
       "      <td id=\"T_8513a_row3_col0\" class=\"data row3 col0\" >4</td>\n",
       "      <td id=\"T_8513a_row3_col1\" class=\"data row3 col1\" >0.000820</td>\n",
       "      <td id=\"T_8513a_row3_col2\" class=\"data row3 col2\" >0.155993</td>\n",
       "    </tr>\n",
       "    <tr>\n",
       "      <th id=\"T_8513a_level0_row4\" class=\"row_heading level0 row4\" >4</th>\n",
       "      <td id=\"T_8513a_row4_col0\" class=\"data row4 col0\" >5</td>\n",
       "      <td id=\"T_8513a_row4_col1\" class=\"data row4 col1\" >0.001137</td>\n",
       "      <td id=\"T_8513a_row4_col2\" class=\"data row4 col2\" >0.126846</td>\n",
       "    </tr>\n",
       "    <tr>\n",
       "      <th id=\"T_8513a_level0_row5\" class=\"row_heading level0 row5\" >5</th>\n",
       "      <td id=\"T_8513a_row5_col0\" class=\"data row5 col0\" >6</td>\n",
       "      <td id=\"T_8513a_row5_col1\" class=\"data row5 col1\" >0.000854</td>\n",
       "      <td id=\"T_8513a_row5_col2\" class=\"data row5 col2\" >0.126729</td>\n",
       "    </tr>\n",
       "    <tr>\n",
       "      <th id=\"T_8513a_level0_row6\" class=\"row_heading level0 row6\" >6</th>\n",
       "      <td id=\"T_8513a_row6_col0\" class=\"data row6 col0\" >7</td>\n",
       "      <td id=\"T_8513a_row6_col1\" class=\"data row6 col1\" >0.000966</td>\n",
       "      <td id=\"T_8513a_row6_col2\" class=\"data row6 col2\" >0.058000</td>\n",
       "    </tr>\n",
       "    <tr>\n",
       "      <th id=\"T_8513a_level0_row7\" class=\"row_heading level0 row7\" >7</th>\n",
       "      <td id=\"T_8513a_row7_col0\" class=\"data row7 col0\" >8</td>\n",
       "      <td id=\"T_8513a_row7_col1\" class=\"data row7 col1\" >0.000890</td>\n",
       "      <td id=\"T_8513a_row7_col2\" class=\"data row7 col2\" >0.099888</td>\n",
       "    </tr>\n",
       "    <tr>\n",
       "      <th id=\"T_8513a_level0_row8\" class=\"row_heading level0 row8\" >8</th>\n",
       "      <td id=\"T_8513a_row8_col0\" class=\"data row8 col0\" >9</td>\n",
       "      <td id=\"T_8513a_row8_col1\" class=\"data row8 col1\" >0.000819</td>\n",
       "      <td id=\"T_8513a_row8_col2\" class=\"data row8 col2\" >0.156333</td>\n",
       "    </tr>\n",
       "    <tr>\n",
       "      <th id=\"T_8513a_level0_row9\" class=\"row_heading level0 row9\" >9</th>\n",
       "      <td id=\"T_8513a_row9_col0\" class=\"data row9 col0\" >10</td>\n",
       "      <td id=\"T_8513a_row9_col1\" class=\"data row9 col1\" >0.000732</td>\n",
       "      <td id=\"T_8513a_row9_col2\" class=\"data row9 col2\" >0.241344</td>\n",
       "    </tr>\n",
       "    <tr>\n",
       "      <th id=\"T_8513a_level0_row10\" class=\"row_heading level0 row10\" >10</th>\n",
       "      <td id=\"T_8513a_row10_col0\" class=\"data row10 col0\" >11</td>\n",
       "      <td id=\"T_8513a_row10_col1\" class=\"data row10 col1\" >0.000596</td>\n",
       "      <td id=\"T_8513a_row10_col2\" class=\"data row10 col2\" >0.393251</td>\n",
       "    </tr>\n",
       "    <tr>\n",
       "      <th id=\"T_8513a_level0_row11\" class=\"row_heading level0 row11\" >11</th>\n",
       "      <td id=\"T_8513a_row11_col0\" class=\"data row11 col0\" >12</td>\n",
       "      <td id=\"T_8513a_row11_col1\" class=\"data row11 col1\" >0.000596</td>\n",
       "      <td id=\"T_8513a_row11_col2\" class=\"data row11 col2\" >0.393636</td>\n",
       "    </tr>\n",
       "    <tr>\n",
       "      <th id=\"T_8513a_level0_row12\" class=\"row_heading level0 row12\" >12</th>\n",
       "      <td id=\"T_8513a_row12_col0\" class=\"data row12 col0\" >13</td>\n",
       "      <td id=\"T_8513a_row12_col1\" class=\"data row12 col1\" >0.000829</td>\n",
       "      <td id=\"T_8513a_row12_col2\" class=\"data row12 col2\" >0.147960</td>\n",
       "    </tr>\n",
       "    <tr>\n",
       "      <th id=\"T_8513a_level0_row13\" class=\"row_heading level0 row13\" >13</th>\n",
       "      <td id=\"T_8513a_row13_col0\" class=\"data row13 col0\" >14</td>\n",
       "      <td id=\"T_8513a_row13_col1\" class=\"data row13 col1\" >0.000509</td>\n",
       "      <td id=\"T_8513a_row13_col2\" class=\"data row13 col2\" >0.501447</td>\n",
       "    </tr>\n",
       "    <tr>\n",
       "      <th id=\"T_8513a_level0_row14\" class=\"row_heading level0 row14\" >14</th>\n",
       "      <td id=\"T_8513a_row14_col0\" class=\"data row14 col0\" >15</td>\n",
       "      <td id=\"T_8513a_row14_col1\" class=\"data row14 col1\" >0.000664</td>\n",
       "      <td id=\"T_8513a_row14_col2\" class=\"data row14 col2\" >0.314032</td>\n",
       "    </tr>\n",
       "    <tr>\n",
       "      <th id=\"T_8513a_level0_row15\" class=\"row_heading level0 row15\" >15</th>\n",
       "      <td id=\"T_8513a_row15_col0\" class=\"data row15 col0\" >16</td>\n",
       "      <td id=\"T_8513a_row15_col1\" class=\"data row15 col1\" >0.000530</td>\n",
       "      <td id=\"T_8513a_row15_col2\" class=\"data row15 col2\" >0.474160</td>\n",
       "    </tr>\n",
       "    <tr>\n",
       "      <th id=\"T_8513a_level0_row16\" class=\"row_heading level0 row16\" >16</th>\n",
       "      <td id=\"T_8513a_row16_col0\" class=\"data row16 col0\" >17</td>\n",
       "      <td id=\"T_8513a_row16_col1\" class=\"data row16 col1\" >0.000620</td>\n",
       "      <td id=\"T_8513a_row16_col2\" class=\"data row16 col2\" >0.364722</td>\n",
       "    </tr>\n",
       "    <tr>\n",
       "      <th id=\"T_8513a_level0_row17\" class=\"row_heading level0 row17\" >17</th>\n",
       "      <td id=\"T_8513a_row17_col0\" class=\"data row17 col0\" >18</td>\n",
       "      <td id=\"T_8513a_row17_col1\" class=\"data row17 col1\" >0.000618</td>\n",
       "      <td id=\"T_8513a_row17_col2\" class=\"data row17 col2\" >0.367352</td>\n",
       "    </tr>\n",
       "  </tbody>\n",
       "</table>\n"
      ],
      "text/plain": [
       "<pandas.io.formats.style.Styler at 0x2b37fa68f70>"
      ]
     },
     "metadata": {},
     "output_type": "display_data"
    },
    {
     "name": "stdout",
     "output_type": "stream",
     "text": [
      "Rata-Rata Galat terendah dicapai pada saat nilai k sebesar 0.00098677 dengan rata-rata 0.051584227050856385.\n"
     ]
    }
   ],
   "source": [
    "df_all_slope = pd.DataFrame({\"Slope(k) ke-\" : [i for i in range(1, len(slope_galat)+1)],\n",
    "                            \"Nilai k\" : list(slope_galat.keys()),\n",
    "                            \"Nilai Rata-Rata Galat\" : list(slope_galat.values())})\n",
    "\n",
    "center_aligned_df = df_all_slope.style.set_properties(**{'text-align': 'center'})\n",
    "display(center_aligned_df)\n",
    "\n",
    "print(\"Rata-Rata Galat terendah dicapai pada saat nilai k sebesar {} dengan rata-rata {}.\".format(df_all_slope[\"Nilai k\"][2], np.min(df_all_slope[\"Nilai Rata-Rata Galat\"])))"
   ]
  }
 ],
 "metadata": {
  "kernelspec": {
   "display_name": "Python 3 (ipykernel)",
   "language": "python",
   "name": "python3"
  },
  "language_info": {
   "codemirror_mode": {
    "name": "ipython",
    "version": 3
   },
   "file_extension": ".py",
   "mimetype": "text/x-python",
   "name": "python",
   "nbconvert_exporter": "python",
   "pygments_lexer": "ipython3",
   "version": "3.9.7"
  }
 },
 "nbformat": 4,
 "nbformat_minor": 5
}

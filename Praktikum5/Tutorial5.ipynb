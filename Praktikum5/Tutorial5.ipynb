{
 "cells": [
  {
   "cell_type": "markdown",
   "metadata": {},
   "source": [
    "# Tutorial 5:"
   ]
  },
  {
   "cell_type": "markdown",
   "metadata": {},
   "source": [
    "Dalam tutorial ini akan dibahas fungsi-fungsi dalam Python, yaitu:\n",
    "1. Fungsi-fungsi dalam modul math\n",
    "2. Fungsi yang didefinisikan sendiri \n",
    "3. Fungsi lambda\n",
    "    "
   ]
  },
  {
   "cell_type": "markdown",
   "metadata": {},
   "source": [
    "## 1. Fungsi-fungsi dalam modul math\n",
    "\n",
    "Untuk menggunakan fungsi-fungsi dalam modul math maka modul math perlu diimport dulu dengan perintah _import math_. Kemudian untuk memanggil fungsi dalam modul math maka digunakan syntax _math.nama_fungsi()_.\n"
   ]
  },
  {
   "cell_type": "code",
   "execution_count": 3,
   "metadata": {},
   "outputs": [
    {
     "name": "stdout",
     "output_type": "stream",
     "text": [
      "3.0\n",
      "3.0\n"
     ]
    }
   ],
   "source": [
    "import math\n",
    "x = 3 ** 2\n",
    "z = x ** (1/2)\n",
    "print(z)\n",
    "y = math.sqrt(x)\n",
    "print(y)"
   ]
  },
  {
   "cell_type": "code",
   "execution_count": 4,
   "metadata": {},
   "outputs": [
    {
     "name": "stdout",
     "output_type": "stream",
     "text": [
      "3\n",
      "4\n",
      "3\n",
      "3.141592653589793\n",
      "1.0\n",
      "-1.0\n",
      "0.9999999999999999\n",
      "4\n",
      "4.0\n",
      "6\n",
      "2.718281828459045\n",
      "1.0\n"
     ]
    }
   ],
   "source": [
    "print(round(3.4))\n",
    "print(math.ceil(3.4))\n",
    "print(math.floor(3.7))\n",
    "print(math.pi)\n",
    "print(math.sin(math.pi / 2))\n",
    "print(math.cos(math.pi))\n",
    "print(math.tan(math.pi / 4))\n",
    "print(abs(-4))\n",
    "print(math.fabs(-4))\n",
    "print(math.factorial(3))\n",
    "print(math.exp(1))\n",
    "print(math.exp(0))"
   ]
  },
  {
   "cell_type": "markdown",
   "metadata": {},
   "source": [
    "## 2. Fungsi yang didefinisikan sendiri\n",
    "\n",
    "Pengguna dapat mendefinisikan fungsi sendiri apabila fungsi tersebut tidak terdapat dalam Python. Aturan (syntax) pendefinisian fungsi adalah \n",
    "\n",
    "def nama_fungsi(argument/input):  \n",
    "    return ..."
   ]
  },
  {
   "cell_type": "code",
   "execution_count": 5,
   "metadata": {},
   "outputs": [
    {
     "name": "stdout",
     "output_type": "stream",
     "text": [
      "hi\n"
     ]
    }
   ],
   "source": [
    "def halo():\n",
    "    print(\"hi\")\n",
    "\n",
    "halo()"
   ]
  },
  {
   "cell_type": "code",
   "execution_count": 6,
   "metadata": {},
   "outputs": [
    {
     "name": "stdout",
     "output_type": "stream",
     "text": [
      "hallo Oca\n"
     ]
    }
   ],
   "source": [
    "def halo2(nama):\n",
    "    print(\"hallo \" + nama)\n",
    "\n",
    "halo2(\"Oca\")"
   ]
  },
  {
   "cell_type": "code",
   "execution_count": 10,
   "metadata": {},
   "outputs": [
    {
     "name": "stdout",
     "output_type": "stream",
     "text": [
      "10\n"
     ]
    },
    {
     "data": {
      "text/plain": [
       "20"
      ]
     },
     "execution_count": 10,
     "metadata": {},
     "output_type": "execute_result"
    }
   ],
   "source": [
    "def dua_kali2(bilangan):\n",
    "    print(bilangan)\n",
    "    return bilangan * 2\n",
    "\n",
    "dua_kali2(10)\n",
    "#print(bilangan)"
   ]
  },
  {
   "cell_type": "code",
   "execution_count": 11,
   "metadata": {},
   "outputs": [
    {
     "data": {
      "text/plain": [
       "10"
      ]
     },
     "execution_count": 11,
     "metadata": {},
     "output_type": "execute_result"
    }
   ],
   "source": [
    "def dua_kali(bilangan):\n",
    "    hasil = bilangan * 2\n",
    "    return hasil\n",
    "\n",
    "dua_kali(5)"
   ]
  },
  {
   "cell_type": "code",
   "execution_count": 12,
   "metadata": {},
   "outputs": [
    {
     "data": {
      "text/plain": [
       "100.0"
      ]
     },
     "execution_count": 12,
     "metadata": {},
     "output_type": "execute_result"
    }
   ],
   "source": [
    "def fahrenheit2celcius(suhu):\n",
    "    celcius = (suhu - 32) * 5 / 9\n",
    "    return celcius\n",
    "\n",
    "fahrenheit2celcius(212)"
   ]
  },
  {
   "cell_type": "code",
   "execution_count": 13,
   "metadata": {},
   "outputs": [
    {
     "data": {
      "text/plain": [
       "5.0"
      ]
     },
     "execution_count": 13,
     "metadata": {},
     "output_type": "execute_result"
    }
   ],
   "source": [
    "def jarak_2_titik(x0,y0,x1,y1):\n",
    "    jarak_x = x1 - x0\n",
    "    jarak_y = y1 - y0\n",
    "    jarak = math.sqrt(jarak_x ** 2 + jarak_y ** 2)\n",
    "    return jarak\n",
    "\n",
    "jarak_2_titik(3,0,0,4)   "
   ]
  },
  {
   "cell_type": "code",
   "execution_count": 14,
   "metadata": {},
   "outputs": [
    {
     "data": {
      "text/plain": [
       "720"
      ]
     },
     "execution_count": 14,
     "metadata": {},
     "output_type": "execute_result"
    }
   ],
   "source": [
    "def faktorial(n):\n",
    "    if n == 1:\n",
    "        hasil = 1\n",
    "    else:\n",
    "        hasil = n * faktorial(n - 1)\n",
    "    return hasil\n",
    "\n",
    "faktorial(6)"
   ]
  },
  {
   "cell_type": "code",
   "execution_count": 2,
   "outputs": [
    {
     "name": "stdout",
     "output_type": "stream",
     "text": [
      "Berat badan anda  100  dan tinggi badan anda  150  maka menurut BMI anda obesitas\n"
     ]
    }
   ],
   "source": [
    "# program untuk menghitung bmi\n",
    "berat = int(input(\"Masukkan berat badan anda : \"))\n",
    "tinggi = int(input(\"Masukkan tinggi badan anda : \"))\n",
    "\n",
    "def hitungBMI(berat, tinggi):\n",
    "    bmi = berat / (tinggi/100)**2\n",
    "    return bmi\n",
    "\n",
    "hasilBMI = hitungBMI(berat,tinggi)\n",
    "\n",
    "if hasilBMI < 18.5:\n",
    "    temp = \"terlalu kurus\"\n",
    "elif 18.5 <= hasilBMI <= 25:\n",
    "    temp = \"normal\"\n",
    "elif 25 < hasilBMI <= 30:\n",
    "    temp = \"kelebihan berat badan\"\n",
    "elif hasilBMI > 30:\n",
    "    temp =\"obesitas\"\n",
    "\n",
    "print(\"Berat badan anda \", berat, \" dan tinggi badan anda \",tinggi,\" maka menurut BMI anda \"+temp)"
   ],
   "metadata": {
    "collapsed": false
   }
  },
  {
   "cell_type": "code",
   "execution_count": 4,
   "outputs": [
    {
     "name": "stdout",
     "output_type": "stream",
     "text": [
      "tidak memiliki persamaa yang real\n"
     ]
    }
   ],
   "source": [
    "#menghitung nilai a b c\n",
    "import math\n",
    "ulangi = 1\n",
    "\n",
    "def hitungD(a,b,c):\n",
    "    hitung = b**2-4*a*b\n",
    "    return hitung\n",
    "\n",
    "while ulangi == 1:\n",
    "    a=int(input(\"nilai a\"))\n",
    "    b=int(input(\"nilai b\"))\n",
    "    c=int(input(\"nilai c\"))\n",
    "\n",
    "    hasil_d = hitungD(a,b,c)\n",
    "\n",
    "    if hasil_d>0:\n",
    "        a1=(b+ math.sqrt(hasil_d)) / (2*a)\n",
    "        a2=(b- math.sqrt(hasil_d)) / (2*a)\n",
    "        print(\"penyelesaian\",a1,\" dan \",a2)\n",
    "    elif hasil_d == 0:\n",
    "        b=-b/(2*a)\n",
    "        print(b)\n",
    "    else:\n",
    "        print(\"tidak memiliki persamaa yang real\")\n",
    "\n",
    "    ulangi=int(input(\"ulangi?(1/-1)\"))\n",
    "    if ulangi == -1:\n",
    "        break"
   ],
   "metadata": {
    "collapsed": false
   }
  },
  {
   "cell_type": "code",
   "execution_count": 11,
   "outputs": [
    {
     "name": "stdout",
     "output_type": "stream",
     "text": [
      "Anda mendapatkan total nilai 90.0 maka anda berhak mendapatkan nilai  A\n"
     ]
    }
   ],
   "source": [
    "def hitungNilai(tugas,uts1,uts2,uas):\n",
    "    nilaiTotal = float((tugas+uts1+uts2+(2*uas))/5)\n",
    "    return nilaiTotal\n",
    "\n",
    "def klasifikasiNilai(nilaiTotal):\n",
    "    if nilaiTotal >= 80:\n",
    "        nilai = \"A\"\n",
    "    elif 70 <= nilaiTotal and nilaiTotal <80:\n",
    "         nilai = \"B\"\n",
    "    elif 56 <= nilaiTotal and nilaiTotal <70:\n",
    "        nilai = \"C\"\n",
    "    elif 50<= nilaiTotal and nilaiTotal < 56:\n",
    "        nilai = \"D\"\n",
    "    elif nilaiTotal < 50:\n",
    "        nilai = \"E\"\n",
    "    return nilai\n",
    "\n",
    "ulangi = True\n",
    "while(ulangi):\n",
    "    tugas = float(input(\"Masukkan nilai tugas : \"))\n",
    "    uts1 = float(input(\"Masukkan nilai UTS 1 : \"))\n",
    "    uts2 = float(input(\"Masukkan nilai UTS 2 : \"))\n",
    "    uas = float(input(\"Masukkan nilai UAS   : \"))\n",
    "\n",
    "    jumlahNilai = hitungNilai(tugas,uts1,uts2,uas)\n",
    "\n",
    "    print(\"Anda mendapatkan total nilai\",jumlahNilai,\"maka anda berhak mendapatkan nilai \",klasifikasiNilai(jumlahNilai))\n",
    "\n",
    "    mauUlang = input('Apakah anda mau menjalankan program lagi? (Y/N)')\n",
    "    if mauUlang.lower()==\"y\":\n",
    "        ulangi = True\n",
    "    elif mauUlang.lower()==\"n\":\n",
    "        ulangi = False\n",
    "\n"
   ],
   "metadata": {
    "collapsed": false
   }
  },
  {
   "cell_type": "code",
   "execution_count": null,
   "outputs": [],
   "source": [],
   "metadata": {
    "collapsed": false
   }
  },
  {
   "cell_type": "markdown",
   "metadata": {},
   "source": [
    "## 3. Fungsi lambda\n",
    "\n",
    "Fungsi lambda ini juga merupakan fungsi yang didefinisikan sendiri oleh pengguna tetapi fungsi ini tidak punya nama. Aturan penulisannya (syntax) adalah _lambda argument/input: expression/output_."
   ]
  },
  {
   "cell_type": "code",
   "execution_count": 15,
   "metadata": {},
   "outputs": [
    {
     "data": {
      "text/plain": [
       "7"
      ]
     },
     "execution_count": 15,
     "metadata": {},
     "output_type": "execute_result"
    }
   ],
   "source": [
    "lambda x: x+1\n",
    "\n",
    "(lambda x: x + 1)(6)"
   ]
  },
  {
   "cell_type": "code",
   "execution_count": 16,
   "metadata": {},
   "outputs": [
    {
     "data": {
      "text/plain": [
       "200"
      ]
     },
     "execution_count": 16,
     "metadata": {},
     "output_type": "execute_result"
    }
   ],
   "source": [
    "kali_2 = lambda x: 2*x\n",
    "\n",
    "kali_2(100)"
   ]
  },
  {
   "cell_type": "code",
   "execution_count": 18,
   "metadata": {},
   "outputs": [
    {
     "data": {
      "text/plain": [
       "1"
      ]
     },
     "execution_count": 18,
     "metadata": {},
     "output_type": "execute_result"
    }
   ],
   "source": [
    "f = lambda x: x ** 2\n",
    "f(-1)"
   ]
  }
 ],
 "metadata": {
  "kernelspec": {
   "display_name": "Python 3",
   "language": "python",
   "name": "python3"
  },
  "language_info": {
   "codemirror_mode": {
    "name": "ipython",
    "version": 3
   },
   "file_extension": ".py",
   "mimetype": "text/x-python",
   "name": "python",
   "nbconvert_exporter": "python",
   "pygments_lexer": "ipython3",
   "version": "3.8.5"
  }
 },
 "nbformat": 4,
 "nbformat_minor": 4
}

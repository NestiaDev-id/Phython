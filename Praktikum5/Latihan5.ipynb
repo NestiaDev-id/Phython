{
 "cells": [
  {
   "cell_type": "markdown",
   "metadata": {},
   "source": [
    "# Latihan 5: fungsi"
   ]
  },
  {
   "cell_type": "markdown",
   "metadata": {},
   "source": [
    "1. Buatlah fungsi untuk menghitung luas persegi panjang dengan memasukkan variabel panjang dan lebar dan menghasilkan luaran berupa luas!"
   ]
  },
  {
   "cell_type": "code",
   "execution_count": 1,
   "metadata": {},
   "outputs": [
    {
     "data": {
      "text/plain": "50"
     },
     "execution_count": 1,
     "metadata": {},
     "output_type": "execute_result"
    }
   ],
   "source": [
    "def luas(panjang, lebar):\n",
    "    hitung = panjang * lebar\n",
    "    return hitung\n",
    "\n",
    "luas(10,5)"
   ]
  },
  {
   "cell_type": "markdown",
   "metadata": {},
   "source": [
    "2. Buatlah fungsi untuk menghitung volume bola apabila jari-jarinya diketahui sebagai masukkan!"
   ]
  },
  {
   "cell_type": "code",
   "execution_count": 5,
   "metadata": {},
   "outputs": [
    {
     "data": {
      "text/plain": "113142.85714285713"
     },
     "execution_count": 5,
     "metadata": {},
     "output_type": "execute_result"
    }
   ],
   "source": [
    "\n",
    "def volumeBola(jari_jari):\n",
    "    hitung = (4/3) * (22/7) * jari_jari**3\n",
    "    return hitung\n",
    "\n",
    "volumeBola(30)"
   ]
  },
  {
   "cell_type": "markdown",
   "metadata": {},
   "source": [
    "3. Buatlah fungsi untuk menghitung luas segitiga apabila panjang sisi-sisinya diketahui misalnya a,b,c! Gunakan rumus Heron L = sqrt(s(s-a)(s-b)(s-c)) dengan s = (a + b + c) /2"
   ]
  },
  {
   "cell_type": "code",
   "execution_count": null,
   "metadata": {},
   "outputs": [],
   "source": [
    "import math\n",
    "\n"
   ]
  },
  {
   "cell_type": "markdown",
   "metadata": {},
   "source": [
    "4. Buatlah fungsi untuk menampilkan suku ke-n dari barisan Fibbonacci: 1, 1, 2, 3, 5, 8, 13, ...!"
   ]
  },
  {
   "cell_type": "code",
   "execution_count": null,
   "metadata": {},
   "outputs": [],
   "source": []
  },
  {
   "cell_type": "markdown",
   "metadata": {},
   "source": [
    "5. Buatlah fungsi untuk menampilkan jumlah n-suku pertama bilangan asli!"
   ]
  },
  {
   "cell_type": "code",
   "execution_count": null,
   "metadata": {},
   "outputs": [],
   "source": []
  },
  {
   "cell_type": "markdown",
   "metadata": {},
   "source": [
    "6. Buatlah program yang meminta pengguna memilih menu sebagai berikut:\n",
    "    1. luas lingkaran\n",
    "    2. keliling lingkaran\n",
    "   \n",
    "   Di dalam program itu buatlah fungsi untuk menghitung luas lingkaran dan keliling lingkaran!"
   ]
  },
  {
   "cell_type": "code",
   "execution_count": null,
   "metadata": {},
   "outputs": [],
   "source": []
  },
  {
   "cell_type": "markdown",
   "metadata": {},
   "source": [
    "7. Buatlah program yang meminta pengguna memasukkan sejumlah data berupa bilangan dan buatlah fungsi sendiri untuk menghitung rata-rata, nilai maksimum, nilai minimum dan standar deviasi dari kumpulan data tersebut!"
   ]
  },
  {
   "cell_type": "code",
   "execution_count": null,
   "metadata": {},
   "outputs": [],
   "source": []
  }
 ],
 "metadata": {
  "kernelspec": {
   "display_name": "Python 3",
   "language": "python",
   "name": "python3"
  },
  "language_info": {
   "codemirror_mode": {
    "name": "ipython",
    "version": 3
   },
   "file_extension": ".py",
   "mimetype": "text/x-python",
   "name": "python",
   "nbconvert_exporter": "python",
   "pygments_lexer": "ipython3",
   "version": "3.8.5"
  }
 },
 "nbformat": 4,
 "nbformat_minor": 4
}

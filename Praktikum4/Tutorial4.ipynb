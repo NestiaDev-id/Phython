{
 "cells": [
  {
   "cell_type": "markdown",
   "metadata": {},
   "source": [
    "# Tutorial 4:"
   ]
  },
  {
   "cell_type": "markdown",
   "metadata": {},
   "source": [
    "Dalam tutorial ini akan dibahas perintah perulangan **for**. Berbeda dengan perintah perulangan **while** yang digunakan ketika banyaknya perulangan tidak diketahui dengan pasti, perintah perulangan **for** ini biasa digunakan apabila banyaknya perulangan telah diketahui. "
   ]
  },
  {
   "cell_type": "markdown",
   "metadata": {},
   "source": [
    "Perintah perulangan for berikut untuk mengulang sebanyak 8 kali dari i = 0 sampai dengan i = 7"
   ]
  },
  {
   "cell_type": "code",
   "execution_count": null,
   "metadata": {},
   "outputs": [],
   "source": [
    "for i in range(8):\n",
    "    print(i)"
   ]
  },
  {
   "cell_type": "markdown",
   "metadata": {},
   "source": [
    "Perintah perulangan berikut hasilnya sama dengan yang di atas"
   ]
  },
  {
   "cell_type": "code",
   "execution_count": null,
   "metadata": {},
   "outputs": [],
   "source": [
    "for i in range(0,8):\n",
    "    print(i)"
   ]
  },
  {
   "cell_type": "markdown",
   "metadata": {},
   "source": [
    "Apabila indeks dalam perulangan for tidak ingin dimulai dengan 0 maka dapat digunakan perulangan berikut"
   ]
  },
  {
   "cell_type": "code",
   "execution_count": null,
   "metadata": {},
   "outputs": [],
   "source": [
    "for i in range(2,11):\n",
    "    print(i)"
   ]
  },
  {
   "cell_type": "code",
   "execution_count": null,
   "metadata": {},
   "outputs": [],
   "source": [
    "print(\"========\")\n",
    "print(\"n n ** 2\")\n",
    "print(\"========\")\n",
    "for i in range(1,11):\n",
    "    j = i ** 2\n",
    "    print(i,j)"
   ]
  },
  {
   "cell_type": "markdown",
   "metadata": {},
   "source": [
    "Apabila diinginkan indeks perulangan tidak terurut 1 dapat digunakan perintah seperti ini "
   ]
  },
  {
   "cell_type": "code",
   "execution_count": null,
   "metadata": {},
   "outputs": [],
   "source": [
    "for i in range(0,11,3):\n",
    "    print(i)"
   ]
  },
  {
   "cell_type": "code",
   "execution_count": null,
   "metadata": {},
   "outputs": [],
   "source": [
    "for i in range(10,0,-2):\n",
    "    print(i)"
   ]
  },
  {
   "cell_type": "markdown",
   "metadata": {},
   "source": [
    "Program menampilkan 10 suku barisan bilangan Fibonacci dengan menggunakan for"
   ]
  },
  {
   "cell_type": "code",
   "execution_count": null,
   "metadata": {},
   "outputs": [],
   "source": [
    "f1 = 0\n",
    "f2 = 1\n",
    "print(f1)\n",
    "print(f2)\n",
    "for i in range(3,11):\n",
    "    f3 = f1 + f2\n",
    "    print(f3)\n",
    "    f1 = f2\n",
    "    f2 = f3"
   ]
  },
  {
   "cell_type": "markdown",
   "metadata": {},
   "source": [
    "Program menjumlahkan n bilangan asli pertama"
   ]
  },
  {
   "cell_type": "code",
   "execution_count": null,
   "metadata": {},
   "outputs": [],
   "source": [
    "n = int(input(\"Masukkan banyak suku yang ingin dijumlahkan: \"))\n",
    "jumlah = 0\n",
    "for i in range(1,n + 1):\n",
    "    jumlah = jumlah + i\n",
    "print(jumlah)"
   ]
  },
  {
   "cell_type": "markdown",
   "metadata": {},
   "source": [
    "Program simulasi melemparkan dadu 10 kali"
   ]
  },
  {
   "cell_type": "code",
   "execution_count": null,
   "metadata": {},
   "outputs": [],
   "source": [
    "import random\n",
    "\n",
    "jawab ='ya'\n",
    "while jawab == 'ya' or jawab == \"Ya\" or jawab == \"YA\":\n",
    "    frekuensi = 10\n",
    "    for n in range(1, frekuensi + 1):\n",
    "        dadu = random.randint(1,6)\n",
    "        print(dadu)\n",
    "    jawab = input(\"Apakah mau main lagi? (ya/tidak)\")"
   ]
  },
  {
   "cell_type": "markdown",
   "metadata": {},
   "source": [
    "Perhatikan contoh perbedaan penggunaan break dan continue berikut ini"
   ]
  },
  {
   "cell_type": "code",
   "execution_count": null,
   "metadata": {},
   "outputs": [],
   "source": [
    "for i in range(1,6):\n",
    "    if i != 3:\n",
    "        print(i)\n",
    "        break"
   ]
  },
  {
   "cell_type": "code",
   "execution_count": null,
   "metadata": {},
   "outputs": [],
   "source": [
    "for i in range(1,6):\n",
    "    if i != 3:\n",
    "        print(i)\n",
    "        continue"
   ]
  }
 ],
 "metadata": {
  "kernelspec": {
   "display_name": "Python 3",
   "language": "python",
   "name": "python3"
  },
  "language_info": {
   "codemirror_mode": {
    "name": "ipython",
    "version": 3
   },
   "file_extension": ".py",
   "mimetype": "text/x-python",
   "name": "python",
   "nbconvert_exporter": "python",
   "pygments_lexer": "ipython3",
   "version": "3.8.5"
  }
 },
 "nbformat": 4,
 "nbformat_minor": 4
}

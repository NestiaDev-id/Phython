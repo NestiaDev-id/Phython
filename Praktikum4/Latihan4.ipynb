{
 "cells": [
  {
   "cell_type": "markdown",
   "metadata": {},
   "source": [
    "# Latihan 4: gunakan perintah perulangan **for** !"
   ]
  },
  {
   "cell_type": "markdown",
   "metadata": {},
   "source": [
    "1. Buatlah program yang meminta pengguna untuk memasukkan suatu bilangan bulat positif di bawah 20, kemudian tampilkan hitung mundur dari 20 sampai bilangan tersebut!"
   ]
  },
  {
   "cell_type": "code",
   "execution_count": null,
   "metadata": {},
   "outputs": [],
   "source": []
  },
  {
   "cell_type": "markdown",
   "metadata": {},
   "source": [
    "2. Buatlah program untuk menghitung  akar persamaan kuadrat, setelah selesai kemudian tampilkan pertanyaan apakah akan menghitung akar persamaan kuadrat lagi!"
   ]
  },
  {
   "cell_type": "code",
   "execution_count": null,
   "metadata": {},
   "outputs": [],
   "source": []
  },
  {
   "cell_type": "markdown",
   "metadata": {},
   "source": [
    "3. Buatlah program untuk meminta pengguna memasukkan data nilai dari 5 mahasiswa dan hitunglah rata-rata!"
   ]
  },
  {
   "cell_type": "code",
   "execution_count": null,
   "metadata": {},
   "outputs": [],
   "source": []
  },
  {
   "cell_type": "markdown",
   "metadata": {},
   "source": [
    "4. Buatlah program untuk menampilkan tabel yang berisi suhu 0, 10, 20, ..., 300 derajat Celcius beserta konversinya ke dalam derajat Reamur dan Fahrenheit!"
   ]
  },
  {
   "cell_type": "code",
   "execution_count": null,
   "metadata": {},
   "outputs": [],
   "source": []
  },
  {
   "cell_type": "markdown",
   "metadata": {},
   "source": [
    "5. Buatlah program untuk menghitung akar kuadrat dari suatu bilangan positif dengan algoritma Newton berikut ini:\n",
    "* Mintalah pengguna memasukkan bilangan yang akan dicari akar kuadratnya, misal P\n",
    "* Mulailah dengan tebakan awal P/2\n",
    "* Jika nilai absolut dari perbedaan antara P dengan tebakan ** 2 lebih dari suatu toleransi tertentu, maka tebakan diperbaiki dengan cara mengisikan rata-rata dari tebakan P/tebakan\n",
    "* Jika nilai absolut dari perbedaan antara P dengan tebakan ** 2 kurang dari suatu toleransi tertentu maka berhentilah"
   ]
  },
  {
   "cell_type": "code",
   "execution_count": null,
   "metadata": {},
   "outputs": [],
   "source": []
  },
  {
   "cell_type": "markdown",
   "metadata": {},
   "source": [
    "6. Buatlah program untuk menghitung berapa kali sebuah koin dilempar agar muncul gambar atau angka 3 kali! Modifikasilah program tersebut supaya dapat menghitung rata-rata dari 10 kali percobaan yang sama!"
   ]
  },
  {
   "cell_type": "markdown",
   "metadata": {},
   "source": []
  },
  {
   "cell_type": "markdown",
   "metadata": {},
   "source": [
    "7. Buatlah program untuk memasukkan 5 bilangan bulat antara 0 sampai 10, kemudian urutkanlah bilangan tersebut dari yang terkecil ke yang terbesar!"
   ]
  },
  {
   "cell_type": "code",
   "execution_count": null,
   "metadata": {},
   "outputs": [],
   "source": []
  },
  {
   "cell_type": "markdown",
   "metadata": {},
   "source": [
    "8. Buatlah program untuk menghitung: 1 + 4 + 9 + 16 + ... + n ** 2"
   ]
  },
  {
   "cell_type": "code",
   "execution_count": null,
   "metadata": {},
   "outputs": [],
   "source": []
  }
 ],
 "metadata": {
  "kernelspec": {
   "display_name": "Python 3",
   "language": "python",
   "name": "python3"
  },
  "language_info": {
   "codemirror_mode": {
    "name": "ipython",
    "version": 3
   },
   "file_extension": ".py",
   "mimetype": "text/x-python",
   "name": "python",
   "nbconvert_exporter": "python",
   "pygments_lexer": "ipython3",
   "version": "3.7.6"
  }
 },
 "nbformat": 4,
 "nbformat_minor": 4
}

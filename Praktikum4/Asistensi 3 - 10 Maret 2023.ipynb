{
 "cells": [
  {
   "cell_type": "markdown",
   "metadata": {},
   "source": [
    "# Gunakanlah perulangan FOR!"
   ]
  },
  {
   "cell_type": "markdown",
   "metadata": {},
   "source": [
    "### 1. Buatlah program untuk menerima masukan bilangan bulat positif dari pengguna, kemudian luaran dari program adalah faktorial dari bilangan tersebut\n",
    "    Misal : INPUT = 5\n",
    "            OUTPUT = 120"
   ]
  },
  {
   "cell_type": "markdown",
   "metadata": {},
   "source": [
    "### 2. Buatlah program untuk menerima masukan sebuah kata dari pengguna, kemudian luara dari program adalah kebalikan kata tersebut.\n",
    "    Misal : INPUT = \"HALO DUNIA\"\n",
    "            OUTPUT = \"AINUD OLAH\""
   ]
  },
  {
   "cell_type": "markdown",
   "metadata": {},
   "source": [
    "### 3. Buatlah sebuah program untuk menerima masukan dari pengguna mengenai berapa panjang dari sebuah himpunan, luarannya adalah kelipatan dari 7.\n",
    "    Misal : INPUT : 5\n",
    "            OUTPUT : [7,14,21,28,35]"
   ]
  },
  {
   "cell_type": "markdown",
   "metadata": {},
   "source": [
    "### 4. Buatlah program untuk memisahkan bilangan yang positif dan negatif ke himpunan (list) yang berbeda.\n",
    "    Misal : INPUT = [2,4,-8,-5,1,9,7]\n",
    "            OUTPUT = Himpunan Positif = [1,2,4,7,9]\n",
    "                     Himpunan Negatif = [-5,-8]"
   ]
  },
  {
   "cell_type": "markdown",
   "metadata": {},
   "source": [
    "### 5. Buatlah program untuk mengganti sub-kata dalam sebuah kalimat dengan index tertentu.\n",
    "    Misal : INPUT = \"Namaku adalah Dina\"\n",
    "            SKATA_YANG_MAU_DIGANTI = \"i\" dan \"a\"\n",
    "            OUTPUT = \"Namaku adalah Dono\""
   ]
  }
 ],
 "metadata": {
  "kernelspec": {
   "display_name": "Python 3",
   "language": "python",
   "name": "python3"
  },
  "language_info": {
   "codemirror_mode": {
    "name": "ipython",
    "version": 3
   },
   "file_extension": ".py",
   "mimetype": "text/x-python",
   "name": "python",
   "nbconvert_exporter": "python",
   "pygments_lexer": "ipython3",
   "version": "3.7.4"
  }
 },
 "nbformat": 4,
 "nbformat_minor": 2
}

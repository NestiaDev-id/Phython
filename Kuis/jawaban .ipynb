{
 "cells": [
  {
   "cell_type": "markdown",
   "metadata": {},
   "source": [
    "# Gunakanlah perulangan FOR!"
   ]
  },
  {
   "cell_type": "markdown",
   "metadata": {},
   "source": [
    "### 1. Buatlah program untuk menerima masukan bilangan bulat positif dari pengguna, kemudian luaran dari program adalah faktorial dari bilangan tersebut\n",
    "    Misal : INPUT = 5\n",
    "            OUTPUT = 120"
   ]
  },
  {
   "cell_type": "code",
   "execution_count": 1,
   "outputs": [
    {
     "ename": "ValueError",
     "evalue": "invalid literal for int() with base 10: ''",
     "output_type": "error",
     "traceback": [
      "\u001B[1;31m---------------------------------------------------------------------------\u001B[0m",
      "\u001B[1;31mValueError\u001B[0m                                Traceback (most recent call last)",
      "Cell \u001B[1;32mIn[1], line 1\u001B[0m\n\u001B[1;32m----> 1\u001B[0m angka \u001B[38;5;241m=\u001B[39m \u001B[38;5;28;43mint\u001B[39;49m\u001B[43m(\u001B[49m\u001B[38;5;28;43minput\u001B[39;49m\u001B[43m(\u001B[49m\u001B[38;5;124;43m\"\u001B[39;49m\u001B[38;5;124;43mMasukkan bilangan angka positif \u001B[39;49m\u001B[38;5;124;43m\"\u001B[39;49m\u001B[43m)\u001B[49m\u001B[43m)\u001B[49m\n\u001B[0;32m      2\u001B[0m angkaTemp \u001B[38;5;241m=\u001B[39m \u001B[38;5;241m1\u001B[39m\n\u001B[0;32m      4\u001B[0m \u001B[38;5;28;01mfor\u001B[39;00m i \u001B[38;5;129;01min\u001B[39;00m \u001B[38;5;28mrange\u001B[39m(\u001B[38;5;241m1\u001B[39m, angka\u001B[38;5;241m+\u001B[39m\u001B[38;5;241m1\u001B[39m):\n",
      "\u001B[1;31mValueError\u001B[0m: invalid literal for int() with base 10: ''"
     ]
    }
   ],
   "source": [
    "angka = int(input(\"Masukkan bilangan angka positif \"))\n",
    "angkaTemp = 1\n",
    "\n",
    "for i in range(1, angka+1):\n",
    "    angkaTemp *= i\n",
    "print(angkaTemp)"
   ],
   "metadata": {
    "collapsed": false
   }
  },
  {
   "cell_type": "markdown",
   "metadata": {},
   "source": [
    "### 2. Buatlah program untuk menerima masukan sebuah kata dari pengguna, kemudian luara dari program adalah kebalikan kata tersebut.\n",
    "    Misal : INPUT = \"HALO DUNIA\"\n",
    "            OUTPUT = \"AINUD OLAH\""
   ]
  },
  {
   "cell_type": "code",
   "execution_count": 11,
   "outputs": [
    {
     "name": "stdout",
     "output_type": "stream",
     "text": [
      "Input = Halo Dunia\n",
      "Output = ainuD olaH\n"
     ]
    }
   ],
   "source": [
    "input = \"Halo Dunia\"\n",
    "output = input[::-1]\n",
    "print(\"Input = \"+input+\"\\nOutput = \"+output)"
   ],
   "metadata": {
    "collapsed": false
   }
  },
  {
   "cell_type": "markdown",
   "metadata": {},
   "source": [
    "### 3. Buatlah sebuah program untuk menerima masukan dari pengguna mengenai berapa panjang dari sebuah himpunan, luarannya adalah kelipatan dari 7.\n",
    "    Misal : INPUT : 5\n",
    "            OUTPUT : [7,14,21,28,35]"
   ]
  },
  {
   "cell_type": "code",
   "execution_count": 12,
   "outputs": [
    {
     "name": "stdout",
     "output_type": "stream",
     "text": [
      "7  \n",
      "14  \n",
      "21  \n",
      "28  \n",
      "35  \n"
     ]
    }
   ],
   "source": [
    "bilangan = int(input(\"Masukkan bilangan : \"))\n",
    "tempAngka = 0\n",
    "for i in range (1, bilangan+1):\n",
    "    tempAngka += 7\n",
    "    print(tempAngka,\" \")"
   ],
   "metadata": {
    "collapsed": false
   }
  },
  {
   "cell_type": "code",
   "execution_count": 25,
   "outputs": [
    {
     "ename": "TypeError",
     "evalue": "'str' object is not callable",
     "output_type": "error",
     "traceback": [
      "\u001B[1;31m---------------------------------------------------------------------------\u001B[0m",
      "\u001B[1;31mTypeError\u001B[0m                                 Traceback (most recent call last)",
      "Cell \u001B[1;32mIn[25], line 1\u001B[0m\n\u001B[1;32m----> 1\u001B[0m bil \u001B[38;5;241m=\u001B[39m \u001B[38;5;28;43minput\u001B[39;49m\u001B[43m(\u001B[49m\u001B[38;5;124;43m\"\u001B[39;49m\u001B[38;5;124;43mtesting\u001B[39;49m\u001B[38;5;124;43m\"\u001B[39;49m\u001B[43m)\u001B[49m\n",
      "\u001B[1;31mTypeError\u001B[0m: 'str' object is not callable"
     ]
    }
   ],
   "source": [],
   "metadata": {
    "collapsed": false
   }
  },
  {
   "cell_type": "code",
   "execution_count": null,
   "outputs": [],
   "source": [],
   "metadata": {
    "collapsed": false
   }
  },
  {
   "cell_type": "markdown",
   "metadata": {},
   "source": [
    "### 4. Buatlah program untuk memisahkan bilangan yang positif dan negatif ke himpunan (list) yang berbeda.\n",
    "    Misal : INPUT = [2,4,-8,-5,1,9,7]\n",
    "            OUTPUT = Himpunan Positif = [1,2,4,7,9]\n",
    "                     Himpunan Negatif = [-5,-8]"
   ]
  },
  {
   "cell_type": "code",
   "execution_count": null,
   "outputs": [],
   "source": [
    "input = [2,4,-8,-5,1,9,7]\n",
    "\n"
   ],
   "metadata": {
    "collapsed": false
   }
  },
  {
   "cell_type": "markdown",
   "metadata": {},
   "source": [
    "### 5. Buatlah program untuk mengganti sub-kata dalam sebuah kalimat dengan index tertentu.\n",
    "    Misal : INPUT = \"Namaku adalah Dina\"\n",
    "            SKATA_YANG_MAU_DIGANTI = \"i\" dan \"a\"\n",
    "            OUTPUT = \"Namaku adalah Dono\""
   ]
  },
  {
   "cell_type": "code",
   "execution_count": null,
   "outputs": [],
   "source": [],
   "metadata": {
    "collapsed": false
   }
  }
 ],
 "metadata": {
  "kernelspec": {
   "display_name": "Python 3",
   "language": "python",
   "name": "python3"
  },
  "language_info": {
   "codemirror_mode": {
    "name": "ipython",
    "version": 3
   },
   "file_extension": ".py",
   "mimetype": "text/x-python",
   "name": "python",
   "nbconvert_exporter": "python",
   "pygments_lexer": "ipython3",
   "version": "3.7.4"
  }
 },
 "nbformat": 4,
 "nbformat_minor": 2
}
